{
 "cells": [
  {
   "cell_type": "markdown",
   "metadata": {},
   "source": [
    "# What drives the price of a car?\n",
    "\n",
    "![](images/kurt.jpeg)"
   ]
  },
  {
   "cell_type": "markdown",
   "metadata": {},
   "source": [
    "**OVERVIEW**\n",
    "\n",
    "In this application, you will explore a dataset from Kaggle. The original dataset contained information on 3 million used cars. The provided dataset contains information on 426K cars to ensure speed of processing.  Your goal is to understand what factors make a car more or less expensive.  As a result of your analysis, you should provide clear recommendations to your client -- a used car dealership -- as to what consumers value in a used car."
   ]
  },
  {
   "cell_type": "markdown",
   "metadata": {},
   "source": [
    "### CRISP-DM Framework\n",
    "\n",
    "<center>\n",
    "    <img src = images/crisp.png width = 50%/>\n",
    "</center>\n",
    "\n",
    "\n",
    "To frame the task, throughout our practical applications, we will refer back to a standard process in industry for data projects called CRISP-DM.  This process provides a framework for working through a data problem.  Your first step in this application will be to read through a brief overview of CRISP-DM [here](https://mo-pcco.s3.us-east-1.amazonaws.com/BH-PCMLAI/module_11/readings_starter.zip).  After reading the overview, answer the questions below."
   ]
  },
  {
   "cell_type": "markdown",
   "metadata": {},
   "source": [
    "### Business Understanding\n",
    "\n",
    "From a business perspective, we are tasked with identifying key drivers for used car prices.  In the CRISP-DM overview, we are asked to convert this business framing to a data problem definition.  Using a few sentences, reframe the task as a data task with the appropriate technical vocabulary. "
   ]
  },
  {
   "cell_type": "markdown",
   "metadata": {},
   "source": [
    "Car dealerships aim to maximize profitability by optimizing inventory churn and \n",
    "pricing used vehicles effectively. Accurate pricing requires understanding the \n",
    "factors influencing vehicle value to balance quick sales and revenue. \n",
    "\n",
    "By analyzing past transactions, a regression-based approach will be used to predict optimal prices. \n",
    "The project involves data exploration, cleaning, and feature engineering, followed by building predictive \n",
    "models using linear and polynomial regression, feature selection, and ridge regression to provide \n",
    "actionable insights for pricing strategies."
   ]
  },
  {
   "cell_type": "markdown",
   "metadata": {},
   "source": [
    "### Data Understanding\n",
    "\n",
    "After considering the business understanding, we want to get familiar with our data.  Write down some steps that you would take to get to know the dataset and identify any quality issues within.  Take time to get to know the dataset and explore what information it contains and how this could be used to inform your business understanding."
   ]
  },
  {
   "cell_type": "code",
   "execution_count": 4,
   "metadata": {},
   "outputs": [],
   "source": [
    "# Import all the required libararies\n",
    "import pandas as pd\n",
    "import numpy as np\n",
    "import scipy as sp\n",
    "\n",
    "import matplotlib.pyplot as plt\n",
    "%matplotlib inline\n",
    "import seaborn as sns\n",
    "\n",
    "from sklearn.pipeline import Pipeline\n",
    "from sklearn.preprocessing import PolynomialFeatures, StandardScaler\n",
    "from sklearn.feature_selection import RFE\n",
    "from sklearn.inspection import permutation_importance\n",
    "from sklearn.compose import make_column_transformer, TransformedTargetRegressor, ColumnTransformer\n",
    "from sklearn.model_selection import train_test_split, KFold, GridSearchCV\n",
    "from sklearn.linear_model import LinearRegression, ElasticNet, Ridge, Lasso, ARDRegression, BayesianRidge\n",
    "from sklearn.datasets import make_regression\n",
    "from sklearn.kernel_ridge import KernelRidge \n",
    "from sklearn.metrics import mean_absolute_error, mean_squared_error, mean_squared_log_error, mean_absolute_percentage_error\n",
    "import io"
   ]
  },
  {
   "cell_type": "code",
   "execution_count": 7,
   "metadata": {},
   "outputs": [
    {
     "data": {
      "text/html": [
       "<div>\n",
       "<style scoped>\n",
       "    .dataframe tbody tr th:only-of-type {\n",
       "        vertical-align: middle;\n",
       "    }\n",
       "\n",
       "    .dataframe tbody tr th {\n",
       "        vertical-align: top;\n",
       "    }\n",
       "\n",
       "    .dataframe thead th {\n",
       "        text-align: right;\n",
       "    }\n",
       "</style>\n",
       "<table border=\"1\" class=\"dataframe\">\n",
       "  <thead>\n",
       "    <tr style=\"text-align: right;\">\n",
       "      <th></th>\n",
       "      <th>id</th>\n",
       "      <th>region</th>\n",
       "      <th>price</th>\n",
       "      <th>year</th>\n",
       "      <th>manufacturer</th>\n",
       "      <th>model</th>\n",
       "      <th>condition</th>\n",
       "      <th>cylinders</th>\n",
       "      <th>fuel</th>\n",
       "      <th>odometer</th>\n",
       "      <th>title_status</th>\n",
       "      <th>transmission</th>\n",
       "      <th>VIN</th>\n",
       "      <th>drive</th>\n",
       "      <th>size</th>\n",
       "      <th>type</th>\n",
       "      <th>paint_color</th>\n",
       "      <th>state</th>\n",
       "    </tr>\n",
       "  </thead>\n",
       "  <tbody>\n",
       "    <tr>\n",
       "      <th>0</th>\n",
       "      <td>7222695916</td>\n",
       "      <td>prescott</td>\n",
       "      <td>6000</td>\n",
       "      <td>NaN</td>\n",
       "      <td>NaN</td>\n",
       "      <td>NaN</td>\n",
       "      <td>NaN</td>\n",
       "      <td>NaN</td>\n",
       "      <td>NaN</td>\n",
       "      <td>NaN</td>\n",
       "      <td>NaN</td>\n",
       "      <td>NaN</td>\n",
       "      <td>NaN</td>\n",
       "      <td>NaN</td>\n",
       "      <td>NaN</td>\n",
       "      <td>NaN</td>\n",
       "      <td>NaN</td>\n",
       "      <td>az</td>\n",
       "    </tr>\n",
       "    <tr>\n",
       "      <th>1</th>\n",
       "      <td>7218891961</td>\n",
       "      <td>fayetteville</td>\n",
       "      <td>11900</td>\n",
       "      <td>NaN</td>\n",
       "      <td>NaN</td>\n",
       "      <td>NaN</td>\n",
       "      <td>NaN</td>\n",
       "      <td>NaN</td>\n",
       "      <td>NaN</td>\n",
       "      <td>NaN</td>\n",
       "      <td>NaN</td>\n",
       "      <td>NaN</td>\n",
       "      <td>NaN</td>\n",
       "      <td>NaN</td>\n",
       "      <td>NaN</td>\n",
       "      <td>NaN</td>\n",
       "      <td>NaN</td>\n",
       "      <td>ar</td>\n",
       "    </tr>\n",
       "    <tr>\n",
       "      <th>2</th>\n",
       "      <td>7221797935</td>\n",
       "      <td>florida keys</td>\n",
       "      <td>21000</td>\n",
       "      <td>NaN</td>\n",
       "      <td>NaN</td>\n",
       "      <td>NaN</td>\n",
       "      <td>NaN</td>\n",
       "      <td>NaN</td>\n",
       "      <td>NaN</td>\n",
       "      <td>NaN</td>\n",
       "      <td>NaN</td>\n",
       "      <td>NaN</td>\n",
       "      <td>NaN</td>\n",
       "      <td>NaN</td>\n",
       "      <td>NaN</td>\n",
       "      <td>NaN</td>\n",
       "      <td>NaN</td>\n",
       "      <td>fl</td>\n",
       "    </tr>\n",
       "    <tr>\n",
       "      <th>3</th>\n",
       "      <td>7222270760</td>\n",
       "      <td>worcester / central MA</td>\n",
       "      <td>1500</td>\n",
       "      <td>NaN</td>\n",
       "      <td>NaN</td>\n",
       "      <td>NaN</td>\n",
       "      <td>NaN</td>\n",
       "      <td>NaN</td>\n",
       "      <td>NaN</td>\n",
       "      <td>NaN</td>\n",
       "      <td>NaN</td>\n",
       "      <td>NaN</td>\n",
       "      <td>NaN</td>\n",
       "      <td>NaN</td>\n",
       "      <td>NaN</td>\n",
       "      <td>NaN</td>\n",
       "      <td>NaN</td>\n",
       "      <td>ma</td>\n",
       "    </tr>\n",
       "    <tr>\n",
       "      <th>4</th>\n",
       "      <td>7210384030</td>\n",
       "      <td>greensboro</td>\n",
       "      <td>4900</td>\n",
       "      <td>NaN</td>\n",
       "      <td>NaN</td>\n",
       "      <td>NaN</td>\n",
       "      <td>NaN</td>\n",
       "      <td>NaN</td>\n",
       "      <td>NaN</td>\n",
       "      <td>NaN</td>\n",
       "      <td>NaN</td>\n",
       "      <td>NaN</td>\n",
       "      <td>NaN</td>\n",
       "      <td>NaN</td>\n",
       "      <td>NaN</td>\n",
       "      <td>NaN</td>\n",
       "      <td>NaN</td>\n",
       "      <td>nc</td>\n",
       "    </tr>\n",
       "  </tbody>\n",
       "</table>\n",
       "</div>"
      ],
      "text/plain": [
       "           id                  region  price  year manufacturer model  \\\n",
       "0  7222695916                prescott   6000   NaN          NaN   NaN   \n",
       "1  7218891961            fayetteville  11900   NaN          NaN   NaN   \n",
       "2  7221797935            florida keys  21000   NaN          NaN   NaN   \n",
       "3  7222270760  worcester / central MA   1500   NaN          NaN   NaN   \n",
       "4  7210384030              greensboro   4900   NaN          NaN   NaN   \n",
       "\n",
       "  condition cylinders fuel  odometer title_status transmission  VIN drive  \\\n",
       "0       NaN       NaN  NaN       NaN          NaN          NaN  NaN   NaN   \n",
       "1       NaN       NaN  NaN       NaN          NaN          NaN  NaN   NaN   \n",
       "2       NaN       NaN  NaN       NaN          NaN          NaN  NaN   NaN   \n",
       "3       NaN       NaN  NaN       NaN          NaN          NaN  NaN   NaN   \n",
       "4       NaN       NaN  NaN       NaN          NaN          NaN  NaN   NaN   \n",
       "\n",
       "  size type paint_color state  \n",
       "0  NaN  NaN         NaN    az  \n",
       "1  NaN  NaN         NaN    ar  \n",
       "2  NaN  NaN         NaN    fl  \n",
       "3  NaN  NaN         NaN    ma  \n",
       "4  NaN  NaN         NaN    nc  "
      ]
     },
     "execution_count": 7,
     "metadata": {},
     "output_type": "execute_result"
    }
   ],
   "source": [
    "# Loading the data\n",
    "df = pd.read_csv('data/vehicles.csv')\n",
    "df.head()"
   ]
  },
  {
   "cell_type": "code",
   "execution_count": 8,
   "metadata": {},
   "outputs": [
    {
     "name": "stdout",
     "output_type": "stream",
     "text": [
      "<class 'pandas.core.frame.DataFrame'>\n",
      "RangeIndex: 426880 entries, 0 to 426879\n",
      "Data columns (total 18 columns):\n",
      " #   Column        Non-Null Count   Dtype  \n",
      "---  ------        --------------   -----  \n",
      " 0   id            426880 non-null  int64  \n",
      " 1   region        426880 non-null  object \n",
      " 2   price         426880 non-null  int64  \n",
      " 3   year          425675 non-null  float64\n",
      " 4   manufacturer  409234 non-null  object \n",
      " 5   model         421603 non-null  object \n",
      " 6   condition     252776 non-null  object \n",
      " 7   cylinders     249202 non-null  object \n",
      " 8   fuel          423867 non-null  object \n",
      " 9   odometer      422480 non-null  float64\n",
      " 10  title_status  418638 non-null  object \n",
      " 11  transmission  424324 non-null  object \n",
      " 12  VIN           265838 non-null  object \n",
      " 13  drive         296313 non-null  object \n",
      " 14  size          120519 non-null  object \n",
      " 15  type          334022 non-null  object \n",
      " 16  paint_color   296677 non-null  object \n",
      " 17  state         426880 non-null  object \n",
      "dtypes: float64(2), int64(2), object(14)\n",
      "memory usage: 58.6+ MB\n"
     ]
    }
   ],
   "source": [
    "df.info()"
   ]
  },
  {
   "cell_type": "markdown",
   "metadata": {},
   "source": [
    "There are around 18 features inluding the ID about the car"
   ]
  },
  {
   "cell_type": "markdown",
   "metadata": {},
   "source": [
    "### Data Preparation\n",
    "\n",
    "After our initial exploration and fine-tuning of the business understanding, it is time to construct our final dataset prior to modeling.  Here, we want to make sure to handle any integrity issues and cleaning, the engineering of new features, any transformations that we believe should happen (scaling, logarithms, normalization, etc.), and general preparation for modeling with `sklearn`. "
   ]
  },
  {
   "cell_type": "code",
   "execution_count": 9,
   "metadata": {},
   "outputs": [
    {
     "data": {
      "text/plain": [
       "id              426880\n",
       "region             404\n",
       "price            15655\n",
       "year               114\n",
       "manufacturer        42\n",
       "model            29649\n",
       "condition            6\n",
       "cylinders            8\n",
       "fuel                 5\n",
       "odometer        104870\n",
       "title_status         6\n",
       "transmission         3\n",
       "VIN             118246\n",
       "drive                3\n",
       "size                 4\n",
       "type                13\n",
       "paint_color         12\n",
       "state               51\n",
       "dtype: int64"
      ]
     },
     "execution_count": 9,
     "metadata": {},
     "output_type": "execute_result"
    }
   ],
   "source": [
    "unique = df.nunique(axis = 0)\n",
    "unique"
   ]
  },
  {
   "cell_type": "code",
   "execution_count": 10,
   "metadata": {},
   "outputs": [
    {
     "data": {
      "text/html": [
       "<div>\n",
       "<style scoped>\n",
       "    .dataframe tbody tr th:only-of-type {\n",
       "        vertical-align: middle;\n",
       "    }\n",
       "\n",
       "    .dataframe tbody tr th {\n",
       "        vertical-align: top;\n",
       "    }\n",
       "\n",
       "    .dataframe thead th {\n",
       "        text-align: right;\n",
       "    }\n",
       "</style>\n",
       "<table border=\"1\" class=\"dataframe\">\n",
       "  <thead>\n",
       "    <tr style=\"text-align: right;\">\n",
       "      <th></th>\n",
       "      <th>id</th>\n",
       "      <th>price</th>\n",
       "      <th>year</th>\n",
       "      <th>odometer</th>\n",
       "    </tr>\n",
       "  </thead>\n",
       "  <tbody>\n",
       "    <tr>\n",
       "      <th>count</th>\n",
       "      <td>4.268800e+05</td>\n",
       "      <td>4.268800e+05</td>\n",
       "      <td>425675.000000</td>\n",
       "      <td>4.224800e+05</td>\n",
       "    </tr>\n",
       "    <tr>\n",
       "      <th>mean</th>\n",
       "      <td>7.311487e+09</td>\n",
       "      <td>7.519903e+04</td>\n",
       "      <td>2011.235191</td>\n",
       "      <td>9.804333e+04</td>\n",
       "    </tr>\n",
       "    <tr>\n",
       "      <th>std</th>\n",
       "      <td>4.473170e+06</td>\n",
       "      <td>1.218228e+07</td>\n",
       "      <td>9.452120</td>\n",
       "      <td>2.138815e+05</td>\n",
       "    </tr>\n",
       "    <tr>\n",
       "      <th>min</th>\n",
       "      <td>7.207408e+09</td>\n",
       "      <td>0.000000e+00</td>\n",
       "      <td>1900.000000</td>\n",
       "      <td>0.000000e+00</td>\n",
       "    </tr>\n",
       "    <tr>\n",
       "      <th>25%</th>\n",
       "      <td>7.308143e+09</td>\n",
       "      <td>5.900000e+03</td>\n",
       "      <td>2008.000000</td>\n",
       "      <td>3.770400e+04</td>\n",
       "    </tr>\n",
       "    <tr>\n",
       "      <th>50%</th>\n",
       "      <td>7.312621e+09</td>\n",
       "      <td>1.395000e+04</td>\n",
       "      <td>2013.000000</td>\n",
       "      <td>8.554800e+04</td>\n",
       "    </tr>\n",
       "    <tr>\n",
       "      <th>75%</th>\n",
       "      <td>7.315254e+09</td>\n",
       "      <td>2.648575e+04</td>\n",
       "      <td>2017.000000</td>\n",
       "      <td>1.335425e+05</td>\n",
       "    </tr>\n",
       "    <tr>\n",
       "      <th>max</th>\n",
       "      <td>7.317101e+09</td>\n",
       "      <td>3.736929e+09</td>\n",
       "      <td>2022.000000</td>\n",
       "      <td>1.000000e+07</td>\n",
       "    </tr>\n",
       "  </tbody>\n",
       "</table>\n",
       "</div>"
      ],
      "text/plain": [
       "                 id         price           year      odometer\n",
       "count  4.268800e+05  4.268800e+05  425675.000000  4.224800e+05\n",
       "mean   7.311487e+09  7.519903e+04    2011.235191  9.804333e+04\n",
       "std    4.473170e+06  1.218228e+07       9.452120  2.138815e+05\n",
       "min    7.207408e+09  0.000000e+00    1900.000000  0.000000e+00\n",
       "25%    7.308143e+09  5.900000e+03    2008.000000  3.770400e+04\n",
       "50%    7.312621e+09  1.395000e+04    2013.000000  8.554800e+04\n",
       "75%    7.315254e+09  2.648575e+04    2017.000000  1.335425e+05\n",
       "max    7.317101e+09  3.736929e+09    2022.000000  1.000000e+07"
      ]
     },
     "execution_count": 10,
     "metadata": {},
     "output_type": "execute_result"
    }
   ],
   "source": [
    "\n",
    "\n",
    "df.describe()"
   ]
  },
  {
   "cell_type": "code",
   "execution_count": null,
   "metadata": {},
   "outputs": [
    {
     "data": {
      "text/plain": [
       "id               0.000000\n",
       "region           0.000000\n",
       "price            0.000000\n",
       "year             0.282281\n",
       "manufacturer     4.133714\n",
       "model            1.236179\n",
       "condition       40.785232\n",
       "cylinders       41.622470\n",
       "fuel             0.705819\n",
       "odometer         1.030735\n",
       "title_status     1.930753\n",
       "transmission     0.598763\n",
       "VIN             37.725356\n",
       "drive           30.586347\n",
       "size            71.767476\n",
       "type            21.752717\n",
       "paint_color     30.501078\n",
       "state            0.000000\n",
       "dtype: float64"
      ]
     },
     "execution_count": 6,
     "metadata": {},
     "output_type": "execute_result"
    }
   ],
   "source": [
    "df.isna().sum()/df.shape[0]*100"
   ]
  },
  {
   "cell_type": "markdown",
   "metadata": {},
   "source": [
    "There are signifcant data with null data"
   ]
  },
  {
   "cell_type": "code",
   "execution_count": 11,
   "metadata": {},
   "outputs": [
    {
     "name": "stdout",
     "output_type": "stream",
     "text": [
      "\n",
      "-----------\n",
      "\n",
      "404\n",
      "['prescott' 'fayetteville' 'florida keys' 'worcester / central MA'\n",
      " 'greensboro' 'hudson valley' 'medford-ashland' 'erie' 'el paso'\n",
      " 'bellingham' 'skagit / island / SJI' 'la crosse' 'auburn' 'birmingham'\n",
      " 'dothan' 'florence / muscle shoals' 'gadsden-anniston'\n",
      " 'huntsville / decatur' 'mobile' 'montgomery' 'tuscaloosa'\n",
      " 'anchorage / mat-su' 'fairbanks' 'kenai peninsula' 'southeast alaska'\n",
      " 'flagstaff / sedona' 'mohave county' 'phoenix' 'show low' 'sierra vista'\n",
      " 'tucson' 'yuma' 'fort smith' 'jonesboro' 'little rock' 'texarkana'\n",
      " 'bakersfield' 'chico' 'fresno / madera' 'gold country' 'hanford-corcoran'\n",
      " 'humboldt county' 'imperial county' 'inland empire' 'los angeles'\n",
      " 'mendocino county' 'merced' 'modesto' 'monterey bay' 'orange county'\n",
      " 'palm springs' 'redding' 'reno / tahoe' 'sacramento' 'san diego'\n",
      " 'san luis obispo' 'santa barbara' 'santa maria' 'SF bay area'\n",
      " 'siskiyou county' 'stockton' 'susanville' 'ventura county'\n",
      " 'visalia-tulare' 'yuba-sutter' 'boulder' 'colorado springs' 'denver'\n",
      " 'eastern CO' 'fort collins / north CO' 'high rockies' 'pueblo'\n",
      " 'western slope' 'eastern CT' 'hartford' 'new haven' 'northwest CT'\n",
      " 'washington, DC' 'delaware' 'daytona beach' 'ft myers / SW florida'\n",
      " 'gainesville' 'heartland florida' 'jacksonville' 'lakeland'\n",
      " 'north central FL' 'ocala' 'okaloosa / walton' 'orlando' 'panama city'\n",
      " 'pensacola' 'sarasota-bradenton' 'south florida' 'space coast'\n",
      " 'st augustine' 'tallahassee' 'tampa bay area' 'treasure coast' 'albany'\n",
      " 'athens' 'atlanta' 'augusta' 'brunswick' 'columbus'\n",
      " 'macon / warner robins' 'northwest GA' 'savannah / hinesville'\n",
      " 'statesboro' 'valdosta' 'hawaii' 'boise' 'east idaho'\n",
      " 'lewiston / clarkston' 'pullman / moscow' \"spokane / coeur d'alene\"\n",
      " 'twin falls' 'bloomington-normal' 'champaign urbana' 'chicago' 'decatur'\n",
      " 'la salle co' 'mattoon-charleston' 'peoria' 'quad cities, IA/IL'\n",
      " 'rockford' 'southern illinois' 'springfield' 'st louis, MO' 'western IL'\n",
      " 'bloomington' 'evansville' 'fort wayne' 'indianapolis' 'kokomo'\n",
      " 'lafayette / west lafayette' 'muncie / anderson' 'richmond'\n",
      " 'south bend / michiana' 'terre haute' 'ames' 'cedar rapids' 'des moines'\n",
      " 'dubuque' 'fort dodge' 'iowa city' 'mason city' 'omaha / council bluffs'\n",
      " 'sioux city' 'southeast IA' 'waterloo / cedar falls' 'kansas city, MO'\n",
      " 'lawrence' 'manhattan' 'northwest KS' 'salina' 'southeast KS'\n",
      " 'southwest KS' 'topeka' 'wichita' 'bowling green' 'eastern kentucky'\n",
      " 'huntington-ashland' 'lexington' 'louisville' 'owensboro' 'western KY'\n",
      " 'baton rouge' 'central louisiana' 'houma' 'lafayette' 'lake charles'\n",
      " 'monroe' 'new orleans' 'shreveport' 'maine' 'annapolis' 'baltimore'\n",
      " 'cumberland valley' 'eastern shore' 'frederick' 'southern maryland'\n",
      " 'western maryland' 'boston' 'cape cod / islands' 'south coast'\n",
      " 'western massachusetts' 'ann arbor' 'battle creek' 'central michigan'\n",
      " 'detroit metro' 'flint' 'grand rapids' 'holland' 'jackson' 'kalamazoo'\n",
      " 'lansing' 'muskegon' 'northern michigan' 'port huron'\n",
      " 'saginaw-midland-baycity' 'southwest michigan' 'the thumb'\n",
      " 'upper peninsula' 'bemidji' 'brainerd' 'duluth / superior'\n",
      " 'fargo / moorhead' 'mankato' 'minneapolis / st paul' 'rochester'\n",
      " 'southwest MN' 'st cloud' 'gulfport / biloxi' 'hattiesburg' 'meridian'\n",
      " 'north mississippi' 'southwest MS' 'columbia / jeff city' 'joplin'\n",
      " 'kansas city' 'kirksville' 'lake of the ozarks' 'southeast missouri'\n",
      " 'st joseph' 'st louis' 'billings' 'bozeman' 'butte' 'eastern montana'\n",
      " 'great falls' 'helena' 'kalispell' 'missoula' 'asheville' 'boone'\n",
      " 'charlotte' 'eastern NC' 'hickory / lenoir' 'outer banks'\n",
      " 'raleigh / durham / CH' 'wilmington' 'winston-salem' 'grand island'\n",
      " 'lincoln' 'north platte' 'scottsbluff / panhandle' 'elko' 'las vegas'\n",
      " 'central NJ' 'jersey shore' 'north jersey' 'south jersey' 'albuquerque'\n",
      " 'clovis / portales' 'farmington' 'las cruces' 'roswell / carlsbad'\n",
      " 'santa fe / taos' 'binghamton' 'buffalo' 'catskills' 'chautauqua'\n",
      " 'elmira-corning' 'finger lakes' 'glens falls' 'ithaca' 'long island'\n",
      " 'new york city' 'oneonta' 'plattsburgh-adirondacks'\n",
      " 'potsdam-canton-massena' 'syracuse' 'twin tiers NY/PA'\n",
      " 'utica-rome-oneida' 'watertown' 'new hampshire' 'bismarck' 'grand forks'\n",
      " 'north dakota' 'akron / canton' 'ashtabula' 'chillicothe' 'cincinnati'\n",
      " 'cleveland' 'dayton / springfield' 'lima / findlay' 'mansfield'\n",
      " 'northern panhandle' 'parkersburg-marietta' 'sandusky' 'toledo'\n",
      " 'tuscarawas co' 'youngstown' 'zanesville / cambridge' 'fort smith, AR'\n",
      " 'lawton' 'northwest OK' 'oklahoma city' 'stillwater' 'texoma' 'tulsa'\n",
      " 'bend' 'corvallis/albany' 'east oregon' 'eugene' 'klamath falls'\n",
      " 'oregon coast' 'portland' 'roseburg' 'salem' 'altoona-johnstown'\n",
      " 'harrisburg' 'lancaster' 'lehigh valley' 'meadville' 'philadelphia'\n",
      " 'pittsburgh' 'poconos' 'reading' 'scranton / wilkes-barre'\n",
      " 'state college' 'williamsport' 'york' 'rhode island' 'charleston'\n",
      " 'columbia' 'florence' 'greenville / upstate' 'hilton head' 'myrtle beach'\n",
      " 'northeast SD' 'pierre / central SD' 'rapid city / west SD'\n",
      " 'sioux falls / SE SD' 'south dakota' 'chattanooga' 'clarksville'\n",
      " 'cookeville' 'knoxville' 'memphis' 'nashville' 'tri-cities' 'abilene'\n",
      " 'amarillo' 'austin' 'beaumont / port arthur' 'brownsville'\n",
      " 'college station' 'corpus christi' 'dallas / fort worth'\n",
      " 'deep east texas' 'del rio / eagle pass' 'galveston' 'houston'\n",
      " 'killeen / temple / ft hood' 'laredo' 'lubbock' 'mcallen / edinburg'\n",
      " 'odessa / midland' 'san angelo' 'san antonio' 'san marcos' 'southwest TX'\n",
      " 'tyler / east TX' 'victoria' 'waco' 'wichita falls' 'logan'\n",
      " 'ogden-clearfield' 'provo / orem' 'salt lake city' 'st george' 'vermont'\n",
      " 'charlottesville' 'danville' 'fredericksburg' 'harrisonburg' 'lynchburg'\n",
      " 'new river valley' 'norfolk / hampton roads' 'roanoke' 'southwest VA'\n",
      " 'winchester' 'kennewick-pasco-richland' 'moses lake' 'olympic peninsula'\n",
      " 'seattle-tacoma' 'wenatchee' 'yakima' 'eastern panhandle' 'morgantown'\n",
      " 'southern WV' 'west virginia (old)' 'appleton-oshkosh-FDL' 'eau claire'\n",
      " 'green bay' 'janesville' 'kenosha-racine' 'madison' 'milwaukee'\n",
      " 'northern WI' 'sheboygan' 'wausau' 'wyoming']\n",
      "region\n",
      "columbus                   3608\n",
      "jacksonville               3562\n",
      "spokane / coeur d'alene    2988\n",
      "eugene                     2985\n",
      "fresno / madera            2983\n",
      "                           ... \n",
      "meridian                     28\n",
      "southwest MS                 14\n",
      "kansas city                  11\n",
      "fort smith, AR                9\n",
      "west virginia (old)           8\n",
      "Name: count, Length: 404, dtype: int64\n",
      "\n",
      "-----------\n",
      "\n",
      "42\n",
      "[nan 'gmc' 'chevrolet' 'toyota' 'ford' 'jeep' 'nissan' 'ram' 'mazda'\n",
      " 'cadillac' 'honda' 'dodge' 'lexus' 'jaguar' 'buick' 'chrysler' 'volvo'\n",
      " 'audi' 'infiniti' 'lincoln' 'alfa-romeo' 'subaru' 'acura' 'hyundai'\n",
      " 'mercedes-benz' 'bmw' 'mitsubishi' 'volkswagen' 'porsche' 'kia' 'rover'\n",
      " 'ferrari' 'mini' 'pontiac' 'fiat' 'tesla' 'saturn' 'mercury'\n",
      " 'harley-davidson' 'datsun' 'aston-martin' 'land rover' 'morgan']\n",
      "manufacturer\n",
      "ford               70985\n",
      "chevrolet          55064\n",
      "toyota             34202\n",
      "honda              21269\n",
      "nissan             19067\n",
      "jeep               19014\n",
      "ram                18342\n",
      "gmc                16785\n",
      "bmw                14699\n",
      "dodge              13707\n",
      "mercedes-benz      11817\n",
      "hyundai            10338\n",
      "subaru              9495\n",
      "volkswagen          9345\n",
      "kia                 8457\n",
      "lexus               8200\n",
      "audi                7573\n",
      "cadillac            6953\n",
      "chrysler            6031\n",
      "acura               5978\n",
      "buick               5501\n",
      "mazda               5427\n",
      "infiniti            4802\n",
      "lincoln             4220\n",
      "volvo               3374\n",
      "mitsubishi          3292\n",
      "mini                2376\n",
      "pontiac             2288\n",
      "rover               2113\n",
      "jaguar              1946\n",
      "porsche             1384\n",
      "mercury             1184\n",
      "saturn              1090\n",
      "alfa-romeo           897\n",
      "tesla                868\n",
      "fiat                 792\n",
      "harley-davidson      153\n",
      "ferrari               95\n",
      "datsun                63\n",
      "aston-martin          24\n",
      "land rover            21\n",
      "morgan                 3\n",
      "Name: count, dtype: int64\n",
      "\n",
      "-----------\n",
      "\n",
      "29649\n",
      "[nan 'sierra 1500 crew cab slt' 'silverado 1500' ... 'gand wagoneer'\n",
      " '96 Suburban' 'Paige Glenbrook Touring']\n",
      "model\n",
      "f-150                      8009\n",
      "silverado 1500             5140\n",
      "1500                       4211\n",
      "camry                      3135\n",
      "silverado                  3023\n",
      "                           ... \n",
      "plymouth fury 1               1\n",
      "f550 box truck delivery       1\n",
      "duramax 2500hd                1\n",
      "3 s sport                     1\n",
      "Paige Glenbrook Touring       1\n",
      "Name: count, Length: 29649, dtype: int64\n",
      "\n",
      "-----------\n",
      "\n",
      "6\n",
      "[nan 'good' 'excellent' 'fair' 'like new' 'new' 'salvage']\n",
      "condition\n",
      "good         121456\n",
      "excellent    101467\n",
      "like new      21178\n",
      "fair           6769\n",
      "new            1305\n",
      "salvage         601\n",
      "Name: count, dtype: int64\n",
      "\n",
      "-----------\n",
      "\n",
      "8\n",
      "[nan '8 cylinders' '6 cylinders' '4 cylinders' '5 cylinders' 'other'\n",
      " '3 cylinders' '10 cylinders' '12 cylinders']\n",
      "cylinders\n",
      "6 cylinders     94169\n",
      "4 cylinders     77642\n",
      "8 cylinders     72062\n",
      "5 cylinders      1712\n",
      "10 cylinders     1455\n",
      "other            1298\n",
      "3 cylinders       655\n",
      "12 cylinders      209\n",
      "Name: count, dtype: int64\n",
      "\n",
      "-----------\n",
      "\n",
      "5\n",
      "[nan 'gas' 'other' 'diesel' 'hybrid' 'electric']\n",
      "fuel\n",
      "gas         356209\n",
      "other        30728\n",
      "diesel       30062\n",
      "hybrid        5170\n",
      "electric      1698\n",
      "Name: count, dtype: int64\n",
      "\n",
      "-----------\n",
      "\n",
      "6\n",
      "[nan 'clean' 'rebuilt' 'lien' 'salvage' 'missing' 'parts only']\n",
      "title_status\n",
      "clean         405117\n",
      "rebuilt         7219\n",
      "salvage         3868\n",
      "lien            1422\n",
      "missing          814\n",
      "parts only       198\n",
      "Name: count, dtype: int64\n",
      "\n",
      "-----------\n",
      "\n",
      "3\n",
      "[nan 'other' 'automatic' 'manual']\n",
      "transmission\n",
      "automatic    336524\n",
      "other         62682\n",
      "manual        25118\n",
      "Name: count, dtype: int64\n",
      "\n",
      "-----------\n",
      "\n",
      "118246\n",
      "[nan '3GTP1VEC4EG551563' '1GCSCSE06AZ123805' ... '2HGES15535H620534'\n",
      " '1FDWF37P64EA24868' 'SAJGX2749VCOO8376']\n",
      "VIN\n",
      "1FMJU1JT1HEA52352    261\n",
      "3C6JR6DT3KG560649    235\n",
      "1FTER1EH1LLA36301    231\n",
      "5TFTX4CN3EX042751    227\n",
      "1GCHTCE37G1186784    214\n",
      "                    ... \n",
      "1GCEK19J78Z219711      1\n",
      "JA4AT3AW1AZ006543      1\n",
      "4T1BF28B61U153724      1\n",
      "JTHCF5C25A5041393      1\n",
      "SAJGX2749VCOO8376      1\n",
      "Name: count, Length: 118246, dtype: int64\n",
      "\n",
      "-----------\n",
      "\n",
      "3\n",
      "[nan 'rwd' '4wd' 'fwd']\n",
      "drive\n",
      "4wd    131904\n",
      "fwd    105517\n",
      "rwd     58892\n",
      "Name: count, dtype: int64\n",
      "\n",
      "-----------\n",
      "\n",
      "4\n",
      "[nan 'full-size' 'mid-size' 'compact' 'sub-compact']\n",
      "size\n",
      "full-size      63465\n",
      "mid-size       34476\n",
      "compact        19384\n",
      "sub-compact     3194\n",
      "Name: count, dtype: int64\n",
      "\n",
      "-----------\n",
      "\n",
      "13\n",
      "[nan 'pickup' 'truck' 'other' 'coupe' 'SUV' 'hatchback' 'mini-van' 'sedan'\n",
      " 'offroad' 'bus' 'van' 'convertible' 'wagon']\n",
      "type\n",
      "sedan          87056\n",
      "SUV            77284\n",
      "pickup         43510\n",
      "truck          35279\n",
      "other          22110\n",
      "coupe          19204\n",
      "hatchback      16598\n",
      "wagon          10751\n",
      "van             8548\n",
      "convertible     7731\n",
      "mini-van        4825\n",
      "offroad          609\n",
      "bus              517\n",
      "Name: count, dtype: int64\n",
      "\n",
      "-----------\n",
      "\n",
      "12\n",
      "[nan 'white' 'blue' 'red' 'black' 'silver' 'grey' 'brown' 'yellow'\n",
      " 'orange' 'green' 'custom' 'purple']\n",
      "paint_color\n",
      "white     79285\n",
      "black     62861\n",
      "silver    42970\n",
      "blue      31223\n",
      "red       30473\n",
      "grey      24416\n",
      "green      7343\n",
      "custom     6700\n",
      "brown      6593\n",
      "yellow     2142\n",
      "orange     1984\n",
      "purple      687\n",
      "Name: count, dtype: int64\n",
      "\n",
      "-----------\n",
      "\n",
      "51\n",
      "['az' 'ar' 'fl' 'ma' 'nc' 'ny' 'or' 'pa' 'tx' 'wa' 'wi' 'al' 'ak' 'ca'\n",
      " 'co' 'ct' 'dc' 'de' 'ga' 'hi' 'id' 'il' 'in' 'ia' 'ks' 'ky' 'la' 'me'\n",
      " 'md' 'mi' 'mn' 'ms' 'mo' 'mt' 'ne' 'nv' 'nj' 'nm' 'nh' 'nd' 'oh' 'ok'\n",
      " 'ri' 'sc' 'sd' 'tn' 'ut' 'vt' 'va' 'wv' 'wy']\n",
      "state\n",
      "ca    50614\n",
      "fl    28511\n",
      "tx    22945\n",
      "ny    19386\n",
      "oh    17696\n",
      "or    17104\n",
      "mi    16900\n",
      "nc    15277\n",
      "wa    13861\n",
      "pa    13753\n",
      "wi    11398\n",
      "co    11088\n",
      "tn    11066\n",
      "va    10732\n",
      "il    10387\n",
      "nj     9742\n",
      "id     8961\n",
      "az     8679\n",
      "ia     8632\n",
      "ma     8174\n",
      "mn     7716\n",
      "ga     7003\n",
      "ok     6792\n",
      "sc     6327\n",
      "mt     6294\n",
      "ks     6209\n",
      "in     5704\n",
      "ct     5188\n",
      "al     4955\n",
      "md     4778\n",
      "nm     4425\n",
      "mo     4293\n",
      "ky     4149\n",
      "ar     4038\n",
      "ak     3474\n",
      "la     3196\n",
      "nv     3194\n",
      "nh     2981\n",
      "dc     2970\n",
      "me     2966\n",
      "hi     2964\n",
      "vt     2513\n",
      "ri     2320\n",
      "sd     1302\n",
      "ut     1150\n",
      "wv     1052\n",
      "ne     1036\n",
      "ms     1016\n",
      "de      949\n",
      "wy      610\n",
      "nd      410\n",
      "Name: count, dtype: int64\n"
     ]
    }
   ],
   "source": [
    "df_ = df.select_dtypes(exclude=['int', 'float'])\n",
    "for col in df_.columns:\n",
    "    print('\\n-----------\\n')\n",
    "    print(df_[col].nunique())\n",
    "    print(df_[col].unique()) \n",
    "    print(df_[col].value_counts()) "
   ]
  },
  {
   "cell_type": "code",
   "execution_count": 12,
   "metadata": {},
   "outputs": [
    {
     "data": {
      "text/html": [
       "<div>\n",
       "<style scoped>\n",
       "    .dataframe tbody tr th:only-of-type {\n",
       "        vertical-align: middle;\n",
       "    }\n",
       "\n",
       "    .dataframe tbody tr th {\n",
       "        vertical-align: top;\n",
       "    }\n",
       "\n",
       "    .dataframe thead th {\n",
       "        text-align: right;\n",
       "    }\n",
       "</style>\n",
       "<table border=\"1\" class=\"dataframe\">\n",
       "  <thead>\n",
       "    <tr style=\"text-align: right;\">\n",
       "      <th></th>\n",
       "      <th>region</th>\n",
       "      <th>price</th>\n",
       "      <th>year</th>\n",
       "      <th>manufacturer</th>\n",
       "      <th>condition</th>\n",
       "      <th>cylinders</th>\n",
       "      <th>fuel</th>\n",
       "      <th>odometer</th>\n",
       "      <th>title_status</th>\n",
       "      <th>transmission</th>\n",
       "      <th>drive</th>\n",
       "      <th>type</th>\n",
       "      <th>paint_color</th>\n",
       "      <th>state</th>\n",
       "    </tr>\n",
       "  </thead>\n",
       "  <tbody>\n",
       "    <tr>\n",
       "      <th>0</th>\n",
       "      <td>prescott</td>\n",
       "      <td>6000</td>\n",
       "      <td>NaN</td>\n",
       "      <td>NaN</td>\n",
       "      <td>NaN</td>\n",
       "      <td>NaN</td>\n",
       "      <td>NaN</td>\n",
       "      <td>NaN</td>\n",
       "      <td>NaN</td>\n",
       "      <td>NaN</td>\n",
       "      <td>NaN</td>\n",
       "      <td>NaN</td>\n",
       "      <td>NaN</td>\n",
       "      <td>az</td>\n",
       "    </tr>\n",
       "    <tr>\n",
       "      <th>1</th>\n",
       "      <td>fayetteville</td>\n",
       "      <td>11900</td>\n",
       "      <td>NaN</td>\n",
       "      <td>NaN</td>\n",
       "      <td>NaN</td>\n",
       "      <td>NaN</td>\n",
       "      <td>NaN</td>\n",
       "      <td>NaN</td>\n",
       "      <td>NaN</td>\n",
       "      <td>NaN</td>\n",
       "      <td>NaN</td>\n",
       "      <td>NaN</td>\n",
       "      <td>NaN</td>\n",
       "      <td>ar</td>\n",
       "    </tr>\n",
       "    <tr>\n",
       "      <th>2</th>\n",
       "      <td>florida keys</td>\n",
       "      <td>21000</td>\n",
       "      <td>NaN</td>\n",
       "      <td>NaN</td>\n",
       "      <td>NaN</td>\n",
       "      <td>NaN</td>\n",
       "      <td>NaN</td>\n",
       "      <td>NaN</td>\n",
       "      <td>NaN</td>\n",
       "      <td>NaN</td>\n",
       "      <td>NaN</td>\n",
       "      <td>NaN</td>\n",
       "      <td>NaN</td>\n",
       "      <td>fl</td>\n",
       "    </tr>\n",
       "    <tr>\n",
       "      <th>3</th>\n",
       "      <td>worcester / central MA</td>\n",
       "      <td>1500</td>\n",
       "      <td>NaN</td>\n",
       "      <td>NaN</td>\n",
       "      <td>NaN</td>\n",
       "      <td>NaN</td>\n",
       "      <td>NaN</td>\n",
       "      <td>NaN</td>\n",
       "      <td>NaN</td>\n",
       "      <td>NaN</td>\n",
       "      <td>NaN</td>\n",
       "      <td>NaN</td>\n",
       "      <td>NaN</td>\n",
       "      <td>ma</td>\n",
       "    </tr>\n",
       "    <tr>\n",
       "      <th>4</th>\n",
       "      <td>greensboro</td>\n",
       "      <td>4900</td>\n",
       "      <td>NaN</td>\n",
       "      <td>NaN</td>\n",
       "      <td>NaN</td>\n",
       "      <td>NaN</td>\n",
       "      <td>NaN</td>\n",
       "      <td>NaN</td>\n",
       "      <td>NaN</td>\n",
       "      <td>NaN</td>\n",
       "      <td>NaN</td>\n",
       "      <td>NaN</td>\n",
       "      <td>NaN</td>\n",
       "      <td>nc</td>\n",
       "    </tr>\n",
       "    <tr>\n",
       "      <th>...</th>\n",
       "      <td>...</td>\n",
       "      <td>...</td>\n",
       "      <td>...</td>\n",
       "      <td>...</td>\n",
       "      <td>...</td>\n",
       "      <td>...</td>\n",
       "      <td>...</td>\n",
       "      <td>...</td>\n",
       "      <td>...</td>\n",
       "      <td>...</td>\n",
       "      <td>...</td>\n",
       "      <td>...</td>\n",
       "      <td>...</td>\n",
       "      <td>...</td>\n",
       "    </tr>\n",
       "    <tr>\n",
       "      <th>426875</th>\n",
       "      <td>wyoming</td>\n",
       "      <td>23590</td>\n",
       "      <td>2019.0</td>\n",
       "      <td>nissan</td>\n",
       "      <td>good</td>\n",
       "      <td>6 cylinders</td>\n",
       "      <td>gas</td>\n",
       "      <td>32226.0</td>\n",
       "      <td>clean</td>\n",
       "      <td>other</td>\n",
       "      <td>fwd</td>\n",
       "      <td>sedan</td>\n",
       "      <td>NaN</td>\n",
       "      <td>wy</td>\n",
       "    </tr>\n",
       "    <tr>\n",
       "      <th>426876</th>\n",
       "      <td>wyoming</td>\n",
       "      <td>30590</td>\n",
       "      <td>2020.0</td>\n",
       "      <td>volvo</td>\n",
       "      <td>good</td>\n",
       "      <td>NaN</td>\n",
       "      <td>gas</td>\n",
       "      <td>12029.0</td>\n",
       "      <td>clean</td>\n",
       "      <td>other</td>\n",
       "      <td>fwd</td>\n",
       "      <td>sedan</td>\n",
       "      <td>red</td>\n",
       "      <td>wy</td>\n",
       "    </tr>\n",
       "    <tr>\n",
       "      <th>426877</th>\n",
       "      <td>wyoming</td>\n",
       "      <td>34990</td>\n",
       "      <td>2020.0</td>\n",
       "      <td>cadillac</td>\n",
       "      <td>good</td>\n",
       "      <td>NaN</td>\n",
       "      <td>diesel</td>\n",
       "      <td>4174.0</td>\n",
       "      <td>clean</td>\n",
       "      <td>other</td>\n",
       "      <td>NaN</td>\n",
       "      <td>hatchback</td>\n",
       "      <td>white</td>\n",
       "      <td>wy</td>\n",
       "    </tr>\n",
       "    <tr>\n",
       "      <th>426878</th>\n",
       "      <td>wyoming</td>\n",
       "      <td>28990</td>\n",
       "      <td>2018.0</td>\n",
       "      <td>lexus</td>\n",
       "      <td>good</td>\n",
       "      <td>6 cylinders</td>\n",
       "      <td>gas</td>\n",
       "      <td>30112.0</td>\n",
       "      <td>clean</td>\n",
       "      <td>other</td>\n",
       "      <td>fwd</td>\n",
       "      <td>sedan</td>\n",
       "      <td>silver</td>\n",
       "      <td>wy</td>\n",
       "    </tr>\n",
       "    <tr>\n",
       "      <th>426879</th>\n",
       "      <td>wyoming</td>\n",
       "      <td>30590</td>\n",
       "      <td>2019.0</td>\n",
       "      <td>bmw</td>\n",
       "      <td>good</td>\n",
       "      <td>NaN</td>\n",
       "      <td>gas</td>\n",
       "      <td>22716.0</td>\n",
       "      <td>clean</td>\n",
       "      <td>other</td>\n",
       "      <td>rwd</td>\n",
       "      <td>coupe</td>\n",
       "      <td>NaN</td>\n",
       "      <td>wy</td>\n",
       "    </tr>\n",
       "  </tbody>\n",
       "</table>\n",
       "<p>426880 rows × 14 columns</p>\n",
       "</div>"
      ],
      "text/plain": [
       "                        region  price    year manufacturer condition  \\\n",
       "0                     prescott   6000     NaN          NaN       NaN   \n",
       "1                 fayetteville  11900     NaN          NaN       NaN   \n",
       "2                 florida keys  21000     NaN          NaN       NaN   \n",
       "3       worcester / central MA   1500     NaN          NaN       NaN   \n",
       "4                   greensboro   4900     NaN          NaN       NaN   \n",
       "...                        ...    ...     ...          ...       ...   \n",
       "426875                 wyoming  23590  2019.0       nissan      good   \n",
       "426876                 wyoming  30590  2020.0        volvo      good   \n",
       "426877                 wyoming  34990  2020.0     cadillac      good   \n",
       "426878                 wyoming  28990  2018.0        lexus      good   \n",
       "426879                 wyoming  30590  2019.0          bmw      good   \n",
       "\n",
       "          cylinders    fuel  odometer title_status transmission drive  \\\n",
       "0               NaN     NaN       NaN          NaN          NaN   NaN   \n",
       "1               NaN     NaN       NaN          NaN          NaN   NaN   \n",
       "2               NaN     NaN       NaN          NaN          NaN   NaN   \n",
       "3               NaN     NaN       NaN          NaN          NaN   NaN   \n",
       "4               NaN     NaN       NaN          NaN          NaN   NaN   \n",
       "...             ...     ...       ...          ...          ...   ...   \n",
       "426875  6 cylinders     gas   32226.0        clean        other   fwd   \n",
       "426876          NaN     gas   12029.0        clean        other   fwd   \n",
       "426877          NaN  diesel    4174.0        clean        other   NaN   \n",
       "426878  6 cylinders     gas   30112.0        clean        other   fwd   \n",
       "426879          NaN     gas   22716.0        clean        other   rwd   \n",
       "\n",
       "             type paint_color state  \n",
       "0             NaN         NaN    az  \n",
       "1             NaN         NaN    ar  \n",
       "2             NaN         NaN    fl  \n",
       "3             NaN         NaN    ma  \n",
       "4             NaN         NaN    nc  \n",
       "...           ...         ...   ...  \n",
       "426875      sedan         NaN    wy  \n",
       "426876      sedan         red    wy  \n",
       "426877  hatchback       white    wy  \n",
       "426878      sedan      silver    wy  \n",
       "426879      coupe         NaN    wy  \n",
       "\n",
       "[426880 rows x 14 columns]"
      ]
     },
     "execution_count": 12,
     "metadata": {},
     "output_type": "execute_result"
    }
   ],
   "source": [
    "def random_sampling(df, n):\n",
    "    random_sample = np.random.choice(df,replace = False, size = n)\n",
    "    return(random_sample)\n",
    "RandomSample = random_sampling(df['model'], 100)\n",
    "RandomSample\n",
    "\n",
    "df1 = df.drop(columns=['model','size','id','VIN'], axis=1)\n",
    "df1.reset_index(inplace=True, drop = True)\n",
    "df1\n"
   ]
  },
  {
   "cell_type": "markdown",
   "metadata": {},
   "source": []
  },
  {
   "cell_type": "code",
   "execution_count": 13,
   "metadata": {},
   "outputs": [
    {
     "data": {
      "text/plain": [
       "[Text(0.5, 1.0, 'Box Plot of Price of used cars in the dataset')]"
      ]
     },
     "execution_count": 13,
     "metadata": {},
     "output_type": "execute_result"
    },
    {
     "data": {
      "image/png": "[encoded data removed]",
      "text/plain": [
       "<Figure size 1400x500 with 1 Axes>"
      ]
     },
     "metadata": {},
     "output_type": "display_data"
    }
   ],
   "source": [
    "plt.figure(figsize=(14,5))\n",
    "sns.boxplot(data=df1,x='price').set(title=\"Box Plot of Price of used cars in the dataset\")"
   ]
  },
  {
   "cell_type": "code",
   "execution_count": 14,
   "metadata": {},
   "outputs": [
    {
     "name": "stderr",
     "output_type": "stream",
     "text": [
      "/var/folders/1c/4bzj7nbj0j56_hrl0nft9h1h0000gp/T/ipykernel_25896/873421124.py:2: UserWarning: \n",
      "\n",
      "`distplot` is a deprecated function and will be removed in seaborn v0.14.0.\n",
      "\n",
      "Please adapt your code to use either `displot` (a figure-level function with\n",
      "similar flexibility) or `histplot` (an axes-level function for histograms).\n",
      "\n",
      "For a guide to updating your code to use the new functions, please see\n",
      "https://gist.github.com/mwaskom/de44147ed2974457ad6372750bbe5751\n",
      "\n",
      "  sns.distplot(df1['price']).set(title = 'Distribution plot of Price of used cars in the dataset')\n"
     ]
    },
    {
     "data": {
      "image/png": "[encoded data removed]",
      "text/plain": [
       "<Figure size 1400x500 with 1 Axes>"
      ]
     },
     "metadata": {},
     "output_type": "display_data"
    }
   ],
   "source": [
    "plt.figure(figsize=(14,5))\n",
    "sns.distplot(df1['price']).set(title = 'Distribution plot of Price of used cars in the dataset')\n",
    "plt.show()"
   ]
  },
  {
   "cell_type": "code",
   "execution_count": 15,
   "metadata": {},
   "outputs": [
    {
     "name": "stdout",
     "output_type": "stream",
     "text": [
      "Max: 3736928711\n",
      "Min: 0\n",
      "Mean: 75199.0331873126\n",
      "Std. Dev.: 12182282.173597954\n"
     ]
    }
   ],
   "source": [
    "print('Max:', df1['price'].max())\n",
    "print('Min:', df1['price'].min())\n",
    "print('Mean:', df1['price'].mean())\n",
    "print('Std. Dev.:', df1['price'].std())"
   ]
  },
  {
   "cell_type": "markdown",
   "metadata": {},
   "source": [
    "There are lot of anomonoies there for removing the prices above 100k and 100 "
   ]
  },
  {
   "cell_type": "code",
   "execution_count": 16,
   "metadata": {},
   "outputs": [
    {
     "name": "stderr",
     "output_type": "stream",
     "text": [
      "/var/folders/1c/4bzj7nbj0j56_hrl0nft9h1h0000gp/T/ipykernel_25896/1015139058.py:3: UserWarning: \n",
      "\n",
      "`distplot` is a deprecated function and will be removed in seaborn v0.14.0.\n",
      "\n",
      "Please adapt your code to use either `displot` (a figure-level function with\n",
      "similar flexibility) or `histplot` (an axes-level function for histograms).\n",
      "\n",
      "For a guide to updating your code to use the new functions, please see\n",
      "https://gist.github.com/mwaskom/de44147ed2974457ad6372750bbe5751\n",
      "\n",
      "  sns.distplot(df_price_out1['price']).set(title = 'Distribution plot of Price of used cars in the dataset')\n"
     ]
    },
    {
     "data": {
      "image/png": "[encoded data removed]",
      "text/plain": [
       "<Figure size 1400x500 with 1 Axes>"
      ]
     },
     "metadata": {},
     "output_type": "display_data"
    }
   ],
   "source": [
    "df_price_out1 = df1[(df1['price'] < 1000000) & (df1['price'] > 100)]\n",
    "plt.figure(figsize=(14,5))\n",
    "sns.distplot(df_price_out1['price']).set(title = 'Distribution plot of Price of used cars in the dataset')\n",
    "plt.show()"
   ]
  },
  {
   "cell_type": "code",
   "execution_count": 17,
   "metadata": {},
   "outputs": [
    {
     "name": "stdout",
     "output_type": "stream",
     "text": [
      "Max: 999999\n",
      "Min: 101\n",
      "Mean: 19085.296549198192\n",
      "Std. Dev.: 15716.472154284424\n"
     ]
    }
   ],
   "source": [
    "print('Max:', df_price_out1['price'].max())\n",
    "print('Min:', df_price_out1['price'].min())\n",
    "print('Mean:', df_price_out1['price'].mean())\n",
    "print('Std. Dev.:', df_price_out1['price'].std())"
   ]
  },
  {
   "cell_type": "code",
   "execution_count": 18,
   "metadata": {},
   "outputs": [
    {
     "name": "stdout",
     "output_type": "stream",
     "text": [
      "Highest allowed 66234.71301205146\n",
      "Lowest allowed -28064.119913655082\n"
     ]
    }
   ],
   "source": [
    "print(\"Highest allowed\",df_price_out1['price'].mean() + 3*df_price_out1['price'].std())\n",
    "print(\"Lowest allowed\",df_price_out1['price'].mean() - 3*df_price_out1['price'].std())"
   ]
  },
  {
   "cell_type": "code",
   "execution_count": 20,
   "metadata": {},
   "outputs": [],
   "source": [
    "df_price_out2 = df_price_out1[(df_price_out1['price'] < 66234.71301205493) & (df_price_out1['price'] > -28064.11991365854)]"
   ]
  },
  {
   "cell_type": "code",
   "execution_count": 22,
   "metadata": {},
   "outputs": [
    {
     "name": "stderr",
     "output_type": "stream",
     "text": [
      "/var/folders/1c/4bzj7nbj0j56_hrl0nft9h1h0000gp/T/ipykernel_25896/23223146.py:2: UserWarning: \n",
      "\n",
      "`distplot` is a deprecated function and will be removed in seaborn v0.14.0.\n",
      "\n",
      "Please adapt your code to use either `displot` (a figure-level function with\n",
      "similar flexibility) or `histplot` (an axes-level function for histograms).\n",
      "\n",
      "For a guide to updating your code to use the new functions, please see\n",
      "https://gist.github.com/mwaskom/de44147ed2974457ad6372750bbe5751\n",
      "\n",
      "  sns.distplot(df_price_out2['price']).set(title = 'Distribution plot of Price of used cars in the dataset')\n"
     ]
    },
    {
     "data": {
      "image/png": "[encoded data removed]",
      "text/plain": [
       "<Figure size 1400x500 with 1 Axes>"
      ]
     },
     "metadata": {},
     "output_type": "display_data"
    }
   ],
   "source": [
    "plt.figure(figsize=(14,5))\n",
    "sns.distplot(df_price_out2['price']).set(title = 'Distribution plot of Price of used cars in the dataset')\n",
    "plt.show()"
   ]
  },
  {
   "cell_type": "markdown",
   "metadata": {},
   "source": [
    "Second Itration"
   ]
  },
  {
   "cell_type": "code",
   "execution_count": 23,
   "metadata": {},
   "outputs": [
    {
     "name": "stdout",
     "output_type": "stream",
     "text": [
      "Max: 66199\n",
      "Min: 101\n",
      "Mean: 18321.505730870547\n",
      "Std. Dev.: 13351.826427912598\n"
     ]
    }
   ],
   "source": [
    "# Max, Min, Std dev and Mean value of price in the dataframe df_price_out2\n",
    "print('Max:', df_price_out2['price'].max())\n",
    "print('Min:', df_price_out2['price'].min())\n",
    "print('Mean:', df_price_out2['price'].mean())\n",
    "print('Std. Dev.:', df_price_out2['price'].std())"
   ]
  },
  {
   "cell_type": "code",
   "execution_count": 24,
   "metadata": {},
   "outputs": [
    {
     "name": "stdout",
     "output_type": "stream",
     "text": [
      "Highest allowed 58376.98501460833\n",
      "Lowest allowed -21733.973552867243\n"
     ]
    }
   ],
   "source": [
    "print(\"Highest allowed\",df_price_out2['price'].mean() + 3*df_price_out2['price'].std())\n",
    "print(\"Lowest allowed\",df_price_out2['price'].mean() - 3*df_price_out2['price'].std())"
   ]
  },
  {
   "cell_type": "code",
   "execution_count": 25,
   "metadata": {},
   "outputs": [
    {
     "name": "stderr",
     "output_type": "stream",
     "text": [
      "/var/folders/1c/4bzj7nbj0j56_hrl0nft9h1h0000gp/T/ipykernel_25896/642641099.py:3: UserWarning: \n",
      "\n",
      "`distplot` is a deprecated function and will be removed in seaborn v0.14.0.\n",
      "\n",
      "Please adapt your code to use either `displot` (a figure-level function with\n",
      "similar flexibility) or `histplot` (an axes-level function for histograms).\n",
      "\n",
      "For a guide to updating your code to use the new functions, please see\n",
      "https://gist.github.com/mwaskom/de44147ed2974457ad6372750bbe5751\n",
      "\n",
      "  sns.distplot(df_price_out3['price']).set(title = 'Distribution plot of Price of used cars in the dataset')\n"
     ]
    },
    {
     "data": {
      "image/png": "[encoded data removed]",
      "text/plain": [
       "<Figure size 1400x500 with 1 Axes>"
      ]
     },
     "metadata": {},
     "output_type": "display_data"
    }
   ],
   "source": [
    "df_price_out3 = df_price_out2[(df_price_out2['price'] < 58376.98501460379) & (df_price_out2['price'] > -21733.973552862702)]\n",
    "plt.figure(figsize=(14,5))\n",
    "sns.distplot(df_price_out3['price']).set(title = 'Distribution plot of Price of used cars in the dataset')\n",
    "plt.show()"
   ]
  },
  {
   "cell_type": "code",
   "execution_count": 26,
   "metadata": {},
   "outputs": [
    {
     "data": {
      "text/plain": [
       "[Text(0.5, 1.0, 'Price of used cars in the dataset after eliminating outliers')]"
      ]
     },
     "execution_count": 26,
     "metadata": {},
     "output_type": "execute_result"
    },
    {
     "data": {
      "image/png": "[encoded data removed]",
      "text/plain": [
       "<Figure size 1400x500 with 1 Axes>"
      ]
     },
     "metadata": {},
     "output_type": "display_data"
    }
   ],
   "source": [
    "#Box plot\n",
    "plt.figure(figsize=(14,5))\n",
    "sns.boxplot(data=df_price_out3,x='price').set(title=\"Price of used cars in the dataset after eliminating outliers\")"
   ]
  },
  {
   "cell_type": "markdown",
   "metadata": {},
   "source": [
    "Finding out Year Outliers"
   ]
  },
  {
   "cell_type": "code",
   "execution_count": 27,
   "metadata": {},
   "outputs": [
    {
     "data": {
      "text/plain": [
       "[Text(0.5, 1.0, 'Box Plot of Year of used cars in the dataset')]"
      ]
     },
     "execution_count": 27,
     "metadata": {},
     "output_type": "execute_result"
    },
    {
     "data": {
      "image/png": "[encoded data removed]",
      "text/plain": [
       "<Figure size 1400x500 with 1 Axes>"
      ]
     },
     "metadata": {},
     "output_type": "display_data"
    }
   ],
   "source": [
    "#box plot of 'year' to visualize outliers\n",
    "plt.figure(figsize=(14,5))\n",
    "sns.boxplot(data=df_price_out3,x='year').set(title=\"Box Plot of Year of used cars in the dataset\")"
   ]
  },
  {
   "cell_type": "code",
   "execution_count": 28,
   "metadata": {},
   "outputs": [
    {
     "name": "stderr",
     "output_type": "stream",
     "text": [
      "/var/folders/1c/4bzj7nbj0j56_hrl0nft9h1h0000gp/T/ipykernel_25896/2925697695.py:2: UserWarning: \n",
      "\n",
      "`distplot` is a deprecated function and will be removed in seaborn v0.14.0.\n",
      "\n",
      "Please adapt your code to use either `displot` (a figure-level function with\n",
      "similar flexibility) or `histplot` (an axes-level function for histograms).\n",
      "\n",
      "For a guide to updating your code to use the new functions, please see\n",
      "https://gist.github.com/mwaskom/de44147ed2974457ad6372750bbe5751\n",
      "\n",
      "  sns.distplot(df_price_out3['year']).set(title = 'Distribution plot of Year of used cars in the dataset')\n"
     ]
    },
    {
     "data": {
      "image/png": "[encoded data removed]",
      "text/plain": [
       "<Figure size 1400x500 with 1 Axes>"
      ]
     },
     "metadata": {},
     "output_type": "display_data"
    }
   ],
   "source": [
    "plt.figure(figsize=(14,5))\n",
    "sns.distplot(df_price_out3['year']).set(title = 'Distribution plot of Year of used cars in the dataset')\n",
    "plt.show()"
   ]
  },
  {
   "cell_type": "code",
   "execution_count": 29,
   "metadata": {},
   "outputs": [
    {
     "name": "stdout",
     "output_type": "stream",
     "text": [
      "Max: 2022.0\n",
      "Min: 1900.0\n",
      "Mean: 2010.943191344441\n",
      "Std. Dev.: 9.485539864412653\n"
     ]
    }
   ],
   "source": [
    "print('Max:', df_price_out3['year'].max())\n",
    "print('Min:', df_price_out3['year'].min())\n",
    "print('Mean:', df_price_out3['year'].mean())\n",
    "print('Std. Dev.:', df_price_out3['year'].std())"
   ]
  },
  {
   "cell_type": "code",
   "execution_count": 30,
   "metadata": {},
   "outputs": [
    {
     "name": "stdout",
     "output_type": "stream",
     "text": [
      "Highest allowed 2039.399810937679\n",
      "Lowest allowed 1982.486571751203\n"
     ]
    }
   ],
   "source": [
    "#Upper and lower bounds for outliers\n",
    "print(\"Highest allowed\",df_price_out3['year'].mean() + 3*df_price_out3['year'].std())\n",
    "print(\"Lowest allowed\",df_price_out3['year'].mean() - 3*df_price_out3['year'].std())"
   ]
  },
  {
   "cell_type": "code",
   "execution_count": 31,
   "metadata": {},
   "outputs": [],
   "source": [
    "#Drop any observation outside of 3x std. dev. \n",
    "df_year_out1 = df_price_out3[(df_price_out3['year'] < 2039.3998109376705) & (df_price_out3['year'] > 1982.4865717512114)]"
   ]
  },
  {
   "cell_type": "code",
   "execution_count": 32,
   "metadata": {},
   "outputs": [
    {
     "name": "stderr",
     "output_type": "stream",
     "text": [
      "/var/folders/1c/4bzj7nbj0j56_hrl0nft9h1h0000gp/T/ipykernel_25896/3288616739.py:3: UserWarning: \n",
      "\n",
      "`distplot` is a deprecated function and will be removed in seaborn v0.14.0.\n",
      "\n",
      "Please adapt your code to use either `displot` (a figure-level function with\n",
      "similar flexibility) or `histplot` (an axes-level function for histograms).\n",
      "\n",
      "For a guide to updating your code to use the new functions, please see\n",
      "https://gist.github.com/mwaskom/de44147ed2974457ad6372750bbe5751\n",
      "\n",
      "  sns.distplot(df_year_out1['year']).set(title = 'Distribution plot of Year of used cars in the dataset')\n"
     ]
    },
    {
     "data": {
      "image/png": "[encoded data removed]",
      "text/plain": [
       "<Figure size 1400x500 with 1 Axes>"
      ]
     },
     "metadata": {},
     "output_type": "display_data"
    }
   ],
   "source": [
    "#Distribution plot of the year feature\n",
    "plt.figure(figsize=(14,5))\n",
    "sns.distplot(df_year_out1['year']).set(title = 'Distribution plot of Year of used cars in the dataset')\n",
    "plt.show()"
   ]
  },
  {
   "cell_type": "code",
   "execution_count": 33,
   "metadata": {},
   "outputs": [
    {
     "name": "stdout",
     "output_type": "stream",
     "text": [
      "Max: 2022.0\n",
      "Min: 1983.0\n",
      "Mean: 2011.9760148490984\n",
      "Highest allowed 2039.399810937679\n",
      "Lowest allowed 1982.486571751203\n"
     ]
    },
    {
     "name": "stderr",
     "output_type": "stream",
     "text": [
      "/var/folders/1c/4bzj7nbj0j56_hrl0nft9h1h0000gp/T/ipykernel_25896/4023029239.py:11: UserWarning: \n",
      "\n",
      "`distplot` is a deprecated function and will be removed in seaborn v0.14.0.\n",
      "\n",
      "Please adapt your code to use either `displot` (a figure-level function with\n",
      "similar flexibility) or `histplot` (an axes-level function for histograms).\n",
      "\n",
      "For a guide to updating your code to use the new functions, please see\n",
      "https://gist.github.com/mwaskom/de44147ed2974457ad6372750bbe5751\n",
      "\n",
      "  sns.distplot(df_year_out1['year']).set(title = 'Distribution plot of Year of used cars in the dataset')\n"
     ]
    },
    {
     "data": {
      "image/png": "[encoded data removed]",
      "text/plain": [
       "<Figure size 1400x500 with 1 Axes>"
      ]
     },
     "metadata": {},
     "output_type": "display_data"
    }
   ],
   "source": [
    "# Maximum, Minimum, Std dev and Mean value of year in the dataframe df1\n",
    "print('Max:', df_year_out1['year'].max())\n",
    "print('Min:', df_year_out1['year'].min())\n",
    "print('Mean:', df_year_out1['year'].mean())\n",
    "\n",
    "print(\"Highest allowed\",df_price_out3['year'].mean() + 3*df_price_out3['year'].std())\n",
    "print(\"Lowest allowed\",df_price_out3['year'].mean() - 3*df_price_out3['year'].std())\n",
    "\n",
    "df_year_out1 = df_price_out3[(df_price_out3['year'] < 2039.3998109376705) & (df_price_out3['year'] > 1982.4865717512114)]\n",
    "plt.figure(figsize=(14,5))\n",
    "sns.distplot(df_year_out1['year']).set(title = 'Distribution plot of Year of used cars in the dataset')\n",
    "plt.show()"
   ]
  },
  {
   "cell_type": "code",
   "execution_count": 34,
   "metadata": {},
   "outputs": [
    {
     "name": "stdout",
     "output_type": "stream",
     "text": [
      "Max: 2022.0\n",
      "Min: 1983.0\n",
      "Mean: 2011.9760148490984\n",
      "Std. Dev.: 6.258242912539867\n",
      "Highest allowed 2030.750743586718\n",
      "Lowest allowed 1993.2012861114788\n"
     ]
    },
    {
     "name": "stderr",
     "output_type": "stream",
     "text": [
      "/var/folders/1c/4bzj7nbj0j56_hrl0nft9h1h0000gp/T/ipykernel_25896/2628956176.py:9: UserWarning: \n",
      "\n",
      "`distplot` is a deprecated function and will be removed in seaborn v0.14.0.\n",
      "\n",
      "Please adapt your code to use either `displot` (a figure-level function with\n",
      "similar flexibility) or `histplot` (an axes-level function for histograms).\n",
      "\n",
      "For a guide to updating your code to use the new functions, please see\n",
      "https://gist.github.com/mwaskom/de44147ed2974457ad6372750bbe5751\n",
      "\n",
      "  sns.distplot(df_year_out2['year']).set(title = 'Distribution plot of Year of used cars in the dataset')\n"
     ]
    },
    {
     "data": {
      "image/png": "[encoded data removed]",
      "text/plain": [
       "<Figure size 1400x500 with 1 Axes>"
      ]
     },
     "metadata": {},
     "output_type": "display_data"
    }
   ],
   "source": [
    "print('Max:', df_year_out1['year'].max())\n",
    "print('Min:', df_year_out1['year'].min())\n",
    "print('Mean:', df_year_out1['year'].mean())\n",
    "print('Std. Dev.:', df_year_out1['year'].std())\n",
    "print(\"Highest allowed\",df_year_out1['year'].mean() + 3*df_year_out1['year'].std())\n",
    "print(\"Lowest allowed\",df_year_out1['year'].mean() - 3*df_year_out1['year'].std())\n",
    "df_year_out2 = df_year_out1[(df_year_out1['year'] < 2030.7507435867042) & (df_year_out1['year'] > 1993.2012861114927)]\n",
    "plt.figure(figsize=(14,5))\n",
    "sns.distplot(df_year_out2['year']).set(title = 'Distribution plot of Year of used cars in the dataset')\n",
    "plt.show()"
   ]
  },
  {
   "cell_type": "code",
   "execution_count": 35,
   "metadata": {},
   "outputs": [
    {
     "data": {
      "text/plain": [
       "[Text(0.5, 1.0, 'Box Plot of Year of used cars in the dataset after eliminating outliers')]"
      ]
     },
     "execution_count": 35,
     "metadata": {},
     "output_type": "execute_result"
    },
    {
     "data": {
      "image/png": "[encoded data removed]",
      "text/plain": [
       "<Figure size 1400x500 with 1 Axes>"
      ]
     },
     "metadata": {},
     "output_type": "display_data"
    }
   ],
   "source": [
    "plt.figure(figsize=(14,5))\n",
    "sns.boxplot(data=df_year_out2,x='year').set(title=\"Box Plot of Year of used cars in the dataset after eliminating outliers\")\n"
   ]
  },
  {
   "cell_type": "code",
   "execution_count": 36,
   "metadata": {},
   "outputs": [
    {
     "data": {
      "text/plain": [
       "(367753, 14)"
      ]
     },
     "execution_count": 36,
     "metadata": {},
     "output_type": "execute_result"
    }
   ],
   "source": [
    "df_year_out2.shape"
   ]
  },
  {
   "cell_type": "markdown",
   "metadata": {},
   "source": [
    "Finding out the Odometer Outlier"
   ]
  },
  {
   "cell_type": "code",
   "execution_count": 37,
   "metadata": {},
   "outputs": [
    {
     "data": {
      "text/plain": [
       "[Text(0.5, 1.0, 'Box Plot of odometer of used cars in the dataset')]"
      ]
     },
     "execution_count": 37,
     "metadata": {},
     "output_type": "execute_result"
    },
    {
     "data": {
      "image/png": "[encoded data removed]",
      "text/plain": [
       "<Figure size 1400x500 with 1 Axes>"
      ]
     },
     "metadata": {},
     "output_type": "display_data"
    }
   ],
   "source": [
    "plt.figure(figsize=(14,5))\n",
    "sns.boxplot(data=df_year_out2,x='odometer').set(title=\"Box Plot of odometer of used cars in the dataset\")"
   ]
  },
  {
   "cell_type": "code",
   "execution_count": 38,
   "metadata": {},
   "outputs": [
    {
     "name": "stderr",
     "output_type": "stream",
     "text": [
      "/var/folders/1c/4bzj7nbj0j56_hrl0nft9h1h0000gp/T/ipykernel_25896/581504426.py:3: UserWarning: \n",
      "\n",
      "`distplot` is a deprecated function and will be removed in seaborn v0.14.0.\n",
      "\n",
      "Please adapt your code to use either `displot` (a figure-level function with\n",
      "similar flexibility) or `histplot` (an axes-level function for histograms).\n",
      "\n",
      "For a guide to updating your code to use the new functions, please see\n",
      "https://gist.github.com/mwaskom/de44147ed2974457ad6372750bbe5751\n",
      "\n",
      "  sns.distplot(df_year_out2['odometer']).set(title = 'Distribution plot of odometer of used cars in the dataset')\n"
     ]
    },
    {
     "data": {
      "image/png": "[encoded data removed]",
      "text/plain": [
       "<Figure size 1400x500 with 1 Axes>"
      ]
     },
     "metadata": {},
     "output_type": "display_data"
    }
   ],
   "source": [
    "#Distribution plot of the odometer feature\n",
    "plt.figure(figsize=(14,5))\n",
    "sns.distplot(df_year_out2['odometer']).set(title = 'Distribution plot of odometer of used cars in the dataset')\n",
    "plt.show()"
   ]
  },
  {
   "cell_type": "code",
   "execution_count": 39,
   "metadata": {},
   "outputs": [],
   "source": [
    "#Drop any observation outside of 500 000km \n",
    "df_odom_out1 = df_year_out2[(df_year_out2['odometer'] < 500000)]"
   ]
  },
  {
   "cell_type": "markdown",
   "metadata": {},
   "source": [
    "Iteration 1: Odometer outliers"
   ]
  },
  {
   "cell_type": "code",
   "execution_count": 40,
   "metadata": {},
   "outputs": [
    {
     "name": "stdout",
     "output_type": "stream",
     "text": [
      "Max: 499232.0\n",
      "Min: 0.0\n",
      "Mean: 94257.75668585526\n",
      "Highest allowed 285233.64302115544\n",
      "Lowest allowed -96718.12964944493\n"
     ]
    },
    {
     "name": "stderr",
     "output_type": "stream",
     "text": [
      "/var/folders/1c/4bzj7nbj0j56_hrl0nft9h1h0000gp/T/ipykernel_25896/2586660922.py:10: UserWarning: \n",
      "\n",
      "`distplot` is a deprecated function and will be removed in seaborn v0.14.0.\n",
      "\n",
      "Please adapt your code to use either `displot` (a figure-level function with\n",
      "similar flexibility) or `histplot` (an axes-level function for histograms).\n",
      "\n",
      "For a guide to updating your code to use the new functions, please see\n",
      "https://gist.github.com/mwaskom/de44147ed2974457ad6372750bbe5751\n",
      "\n",
      "  sns.distplot(df_odom_out2['odometer']).set(title = 'Distribution plot of odometer of used cars in the dataset')\n"
     ]
    },
    {
     "data": {
      "image/png": "[encoded data removed]",
      "text/plain": [
       "<Figure size 1400x500 with 1 Axes>"
      ]
     },
     "metadata": {},
     "output_type": "display_data"
    }
   ],
   "source": [
    "print('Max:', df_odom_out1['odometer'].max())\n",
    "print('Min:', df_odom_out1['odometer'].min())\n",
    "print('Mean:', df_odom_out1['odometer'].mean())\n",
    "print(\"Highest allowed\",df_odom_out1['odometer'].mean() + 3*df_odom_out1['odometer'].std())\n",
    "print(\"Lowest allowed\",df_odom_out1['odometer'].mean() - 3*df_odom_out1['odometer'].std())\n",
    "#Drop any observation outside of 3x std. dev. \n",
    "df_odom_out2 = df_year_out2[(df_year_out2['odometer'] < 285233.643021149) & (df_year_out2['odometer'] > -96718.12964943847)]\n",
    "\n",
    "plt.figure(figsize=(14,5))\n",
    "sns.distplot(df_odom_out2['odometer']).set(title = 'Distribution plot of odometer of used cars in the dataset')\n",
    "plt.show()"
   ]
  },
  {
   "cell_type": "code",
   "execution_count": 41,
   "metadata": {},
   "outputs": [
    {
     "data": {
      "text/plain": [
       "(362610, 14)"
      ]
     },
     "execution_count": 41,
     "metadata": {},
     "output_type": "execute_result"
    },
    {
     "data": {
      "image/png": "[encoded data removed]",
      "text/plain": [
       "<Figure size 1400x500 with 1 Axes>"
      ]
     },
     "metadata": {},
     "output_type": "display_data"
    }
   ],
   "source": [
    "plt.figure(figsize=(14,5))\n",
    "sns.boxplot(data=df_odom_out2,x='odometer').set(title=\"Box Plot of odometer of used cars in the dataset\")\n",
    "df_odom_out2.shape"
   ]
  },
  {
   "cell_type": "code",
   "execution_count": 42,
   "metadata": {},
   "outputs": [
    {
     "name": "stdout",
     "output_type": "stream",
     "text": [
      "<class 'pandas.core.frame.DataFrame'>\n",
      "Index: 362610 entries, 27 to 426879\n",
      "Data columns (total 14 columns):\n",
      " #   Column        Non-Null Count   Dtype  \n",
      "---  ------        --------------   -----  \n",
      " 0   region        362610 non-null  object \n",
      " 1   price         362610 non-null  int64  \n",
      " 2   year          362610 non-null  float64\n",
      " 3   manufacturer  351589 non-null  object \n",
      " 4   condition     224648 non-null  object \n",
      " 5   cylinders     214340 non-null  object \n",
      " 6   fuel          360532 non-null  object \n",
      " 7   odometer      362610 non-null  float64\n",
      " 8   title_status  355630 non-null  object \n",
      " 9   transmission  361180 non-null  object \n",
      " 10  drive         252335 non-null  object \n",
      " 11  type          287436 non-null  object \n",
      " 12  paint_color   256498 non-null  object \n",
      " 13  state         362610 non-null  object \n",
      "dtypes: float64(2), int64(1), object(11)\n",
      "memory usage: 41.5+ MB\n"
     ]
    }
   ],
   "source": [
    "df_outl_clean = df_odom_out2\n",
    "df_outl_clean.isna().sum()/df_outl_clean.shape[0]*100\n",
    "df_outl_clean.info()"
   ]
  },
  {
   "cell_type": "code",
   "execution_count": 43,
   "metadata": {},
   "outputs": [
    {
     "data": {
      "text/html": [
       "<div>\n",
       "<style scoped>\n",
       "    .dataframe tbody tr th:only-of-type {\n",
       "        vertical-align: middle;\n",
       "    }\n",
       "\n",
       "    .dataframe tbody tr th {\n",
       "        vertical-align: top;\n",
       "    }\n",
       "\n",
       "    .dataframe thead th {\n",
       "        text-align: right;\n",
       "    }\n",
       "</style>\n",
       "<table border=\"1\" class=\"dataframe\">\n",
       "  <thead>\n",
       "    <tr style=\"text-align: right;\">\n",
       "      <th></th>\n",
       "      <th>region</th>\n",
       "      <th>price</th>\n",
       "      <th>year</th>\n",
       "      <th>manufacturer</th>\n",
       "      <th>condition</th>\n",
       "      <th>cylinders</th>\n",
       "      <th>fuel</th>\n",
       "      <th>odometer</th>\n",
       "      <th>title_status</th>\n",
       "      <th>transmission</th>\n",
       "      <th>drive</th>\n",
       "      <th>type</th>\n",
       "      <th>paint_color</th>\n",
       "      <th>state</th>\n",
       "    </tr>\n",
       "  </thead>\n",
       "  <tbody>\n",
       "    <tr>\n",
       "      <th>27</th>\n",
       "      <td>auburn</td>\n",
       "      <td>33590</td>\n",
       "      <td>2014.0</td>\n",
       "      <td>gmc</td>\n",
       "      <td>good</td>\n",
       "      <td>8 cylinders</td>\n",
       "      <td>gas</td>\n",
       "      <td>57923.0</td>\n",
       "      <td>clean</td>\n",
       "      <td>other</td>\n",
       "      <td>NaN</td>\n",
       "      <td>pickup</td>\n",
       "      <td>white</td>\n",
       "      <td>al</td>\n",
       "    </tr>\n",
       "    <tr>\n",
       "      <th>28</th>\n",
       "      <td>auburn</td>\n",
       "      <td>22590</td>\n",
       "      <td>2010.0</td>\n",
       "      <td>chevrolet</td>\n",
       "      <td>good</td>\n",
       "      <td>8 cylinders</td>\n",
       "      <td>gas</td>\n",
       "      <td>71229.0</td>\n",
       "      <td>clean</td>\n",
       "      <td>other</td>\n",
       "      <td>NaN</td>\n",
       "      <td>pickup</td>\n",
       "      <td>blue</td>\n",
       "      <td>al</td>\n",
       "    </tr>\n",
       "    <tr>\n",
       "      <th>29</th>\n",
       "      <td>auburn</td>\n",
       "      <td>39590</td>\n",
       "      <td>2020.0</td>\n",
       "      <td>chevrolet</td>\n",
       "      <td>good</td>\n",
       "      <td>8 cylinders</td>\n",
       "      <td>gas</td>\n",
       "      <td>19160.0</td>\n",
       "      <td>clean</td>\n",
       "      <td>other</td>\n",
       "      <td>NaN</td>\n",
       "      <td>pickup</td>\n",
       "      <td>red</td>\n",
       "      <td>al</td>\n",
       "    </tr>\n",
       "    <tr>\n",
       "      <th>30</th>\n",
       "      <td>auburn</td>\n",
       "      <td>30990</td>\n",
       "      <td>2017.0</td>\n",
       "      <td>toyota</td>\n",
       "      <td>good</td>\n",
       "      <td>8 cylinders</td>\n",
       "      <td>gas</td>\n",
       "      <td>41124.0</td>\n",
       "      <td>clean</td>\n",
       "      <td>other</td>\n",
       "      <td>NaN</td>\n",
       "      <td>pickup</td>\n",
       "      <td>red</td>\n",
       "      <td>al</td>\n",
       "    </tr>\n",
       "    <tr>\n",
       "      <th>31</th>\n",
       "      <td>auburn</td>\n",
       "      <td>15000</td>\n",
       "      <td>2013.0</td>\n",
       "      <td>ford</td>\n",
       "      <td>excellent</td>\n",
       "      <td>6 cylinders</td>\n",
       "      <td>gas</td>\n",
       "      <td>128000.0</td>\n",
       "      <td>clean</td>\n",
       "      <td>automatic</td>\n",
       "      <td>rwd</td>\n",
       "      <td>truck</td>\n",
       "      <td>black</td>\n",
       "      <td>al</td>\n",
       "    </tr>\n",
       "    <tr>\n",
       "      <th>...</th>\n",
       "      <td>...</td>\n",
       "      <td>...</td>\n",
       "      <td>...</td>\n",
       "      <td>...</td>\n",
       "      <td>...</td>\n",
       "      <td>...</td>\n",
       "      <td>...</td>\n",
       "      <td>...</td>\n",
       "      <td>...</td>\n",
       "      <td>...</td>\n",
       "      <td>...</td>\n",
       "      <td>...</td>\n",
       "      <td>...</td>\n",
       "      <td>...</td>\n",
       "    </tr>\n",
       "    <tr>\n",
       "      <th>426875</th>\n",
       "      <td>wyoming</td>\n",
       "      <td>23590</td>\n",
       "      <td>2019.0</td>\n",
       "      <td>nissan</td>\n",
       "      <td>good</td>\n",
       "      <td>6 cylinders</td>\n",
       "      <td>gas</td>\n",
       "      <td>32226.0</td>\n",
       "      <td>clean</td>\n",
       "      <td>other</td>\n",
       "      <td>fwd</td>\n",
       "      <td>sedan</td>\n",
       "      <td>NaN</td>\n",
       "      <td>wy</td>\n",
       "    </tr>\n",
       "    <tr>\n",
       "      <th>426876</th>\n",
       "      <td>wyoming</td>\n",
       "      <td>30590</td>\n",
       "      <td>2020.0</td>\n",
       "      <td>volvo</td>\n",
       "      <td>good</td>\n",
       "      <td>NaN</td>\n",
       "      <td>gas</td>\n",
       "      <td>12029.0</td>\n",
       "      <td>clean</td>\n",
       "      <td>other</td>\n",
       "      <td>fwd</td>\n",
       "      <td>sedan</td>\n",
       "      <td>red</td>\n",
       "      <td>wy</td>\n",
       "    </tr>\n",
       "    <tr>\n",
       "      <th>426877</th>\n",
       "      <td>wyoming</td>\n",
       "      <td>34990</td>\n",
       "      <td>2020.0</td>\n",
       "      <td>cadillac</td>\n",
       "      <td>good</td>\n",
       "      <td>NaN</td>\n",
       "      <td>diesel</td>\n",
       "      <td>4174.0</td>\n",
       "      <td>clean</td>\n",
       "      <td>other</td>\n",
       "      <td>NaN</td>\n",
       "      <td>hatchback</td>\n",
       "      <td>white</td>\n",
       "      <td>wy</td>\n",
       "    </tr>\n",
       "    <tr>\n",
       "      <th>426878</th>\n",
       "      <td>wyoming</td>\n",
       "      <td>28990</td>\n",
       "      <td>2018.0</td>\n",
       "      <td>lexus</td>\n",
       "      <td>good</td>\n",
       "      <td>6 cylinders</td>\n",
       "      <td>gas</td>\n",
       "      <td>30112.0</td>\n",
       "      <td>clean</td>\n",
       "      <td>other</td>\n",
       "      <td>fwd</td>\n",
       "      <td>sedan</td>\n",
       "      <td>silver</td>\n",
       "      <td>wy</td>\n",
       "    </tr>\n",
       "    <tr>\n",
       "      <th>426879</th>\n",
       "      <td>wyoming</td>\n",
       "      <td>30590</td>\n",
       "      <td>2019.0</td>\n",
       "      <td>bmw</td>\n",
       "      <td>good</td>\n",
       "      <td>NaN</td>\n",
       "      <td>gas</td>\n",
       "      <td>22716.0</td>\n",
       "      <td>clean</td>\n",
       "      <td>other</td>\n",
       "      <td>rwd</td>\n",
       "      <td>coupe</td>\n",
       "      <td>NaN</td>\n",
       "      <td>wy</td>\n",
       "    </tr>\n",
       "  </tbody>\n",
       "</table>\n",
       "<p>362610 rows × 14 columns</p>\n",
       "</div>"
      ],
      "text/plain": [
       "         region  price    year manufacturer  condition    cylinders    fuel  \\\n",
       "27       auburn  33590  2014.0          gmc       good  8 cylinders     gas   \n",
       "28       auburn  22590  2010.0    chevrolet       good  8 cylinders     gas   \n",
       "29       auburn  39590  2020.0    chevrolet       good  8 cylinders     gas   \n",
       "30       auburn  30990  2017.0       toyota       good  8 cylinders     gas   \n",
       "31       auburn  15000  2013.0         ford  excellent  6 cylinders     gas   \n",
       "...         ...    ...     ...          ...        ...          ...     ...   \n",
       "426875  wyoming  23590  2019.0       nissan       good  6 cylinders     gas   \n",
       "426876  wyoming  30590  2020.0        volvo       good          NaN     gas   \n",
       "426877  wyoming  34990  2020.0     cadillac       good          NaN  diesel   \n",
       "426878  wyoming  28990  2018.0        lexus       good  6 cylinders     gas   \n",
       "426879  wyoming  30590  2019.0          bmw       good          NaN     gas   \n",
       "\n",
       "        odometer title_status transmission drive       type paint_color state  \n",
       "27       57923.0        clean        other   NaN     pickup       white    al  \n",
       "28       71229.0        clean        other   NaN     pickup        blue    al  \n",
       "29       19160.0        clean        other   NaN     pickup         red    al  \n",
       "30       41124.0        clean        other   NaN     pickup         red    al  \n",
       "31      128000.0        clean    automatic   rwd      truck       black    al  \n",
       "...          ...          ...          ...   ...        ...         ...   ...  \n",
       "426875   32226.0        clean        other   fwd      sedan         NaN    wy  \n",
       "426876   12029.0        clean        other   fwd      sedan         red    wy  \n",
       "426877    4174.0        clean        other   NaN  hatchback       white    wy  \n",
       "426878   30112.0        clean        other   fwd      sedan      silver    wy  \n",
       "426879   22716.0        clean        other   rwd      coupe         NaN    wy  \n",
       "\n",
       "[362610 rows x 14 columns]"
      ]
     },
     "execution_count": 43,
     "metadata": {},
     "output_type": "execute_result"
    }
   ],
   "source": [
    "df_impute = df_outl_clean\n",
    "df_impute"
   ]
  },
  {
   "cell_type": "code",
   "execution_count": 44,
   "metadata": {},
   "outputs": [
    {
     "name": "stdout",
     "output_type": "stream",
     "text": [
      "Null Value Dictionary:\n",
      "\n",
      "{'region': np.float64(0.0), 'price': np.float64(0.0), 'year': np.float64(0.0), 'manufacturer': np.float64(3.039353575466755), 'condition': np.float64(38.04693748104024), 'cylinders': np.float64(40.88966106836546), 'fuel': np.float64(0.5730674829706848), 'odometer': np.float64(0.0), 'title_status': np.float64(1.924933123741761), 'transmission': np.float64(0.3943630898210198), 'drive': np.float64(30.41146134965941), 'type': np.float64(20.731364275668074), 'paint_color': np.float64(29.263395935026615), 'state': np.float64(0.0)}\n",
      "\n",
      "----------------------\n",
      "\n",
      "Null Value Percentage Dictionary:\n",
      "\n",
      "{'region': np.float64(0.0), 'price': np.float64(0.0), 'year': np.float64(0.0), 'odometer': np.float64(0.0), 'state': np.float64(0.0), 'transmission': np.float64(0.3943630898210198), 'fuel': np.float64(0.5730674829706848), 'title_status': np.float64(1.924933123741761), 'manufacturer': np.float64(3.039353575466755), 'type': np.float64(20.731364275668074), 'paint_color': np.float64(29.263395935026615), 'drive': np.float64(30.41146134965941), 'condition': np.float64(38.04693748104024), 'cylinders': np.float64(40.88966106836546)}\n"
     ]
    }
   ],
   "source": [
    "#Create a dictionary for the null values according to their percentage\n",
    "print('Null Value Dictionary:\\n')\n",
    "null_dict = {}\n",
    "for icol in df_outl_clean.columns.values:\n",
    "    null_dict[icol] = ((df_outl_clean[icol].isna().sum())/df_outl_clean.shape[0])*100    \n",
    "print(null_dict)\n",
    "\n",
    "# sorting the null dictionary based on value\n",
    "print('\\n----------------------\\n')\n",
    "print('Null Value Percentage Dictionary:\\n')\n",
    "sorted_nulldict = {}\n",
    "sorted_keys = sorted(null_dict, key = null_dict.get)  # [1, 3, 2]\n",
    "\n",
    "for w in sorted_keys:\n",
    "    sorted_nulldict[w] = null_dict[w]\n",
    "print(sorted_nulldict)"
   ]
  },
  {
   "cell_type": "code",
   "execution_count": 45,
   "metadata": {},
   "outputs": [],
   "source": [
    "cat_variables = df_impute[['region', 'manufacturer', 'condition', 'cylinders', 'fuel', 'title_status', 'transmission', 'drive',\n",
    "                          'type', 'paint_color', 'state']]"
   ]
  },
  {
   "cell_type": "code",
   "execution_count": null,
   "metadata": {},
   "outputs": [
    {
     "name": "stderr",
     "output_type": "stream",
     "text": [
      "/var/folders/1c/4bzj7nbj0j56_hrl0nft9h1h0000gp/T/ipykernel_63141/1565522389.py:10: SettingWithCopyWarning: \n",
      "A value is trying to be set on a copy of a slice from a DataFrame.\n",
      "Try using .loc[row_indexer,col_indexer] = value instead\n",
      "\n",
      "See the caveats in the documentation: https://pandas.pydata.org/pandas-docs/stable/user_guide/indexing.html#returning-a-view-versus-a-copy\n",
      "  df_impute[key] = df_impute[key].fillna(df_impute[key].mode().iloc[0])\n"
     ]
    }
   ],
   "source": [
    "\n",
    "from sklearn.impute import KNNImputer\n",
    "\n",
    "imputer = KNNImputer(n_neighbors=5, weights=\"uniform\")\n",
    "for key in sorted_nulldict:\n",
    "    if key in ['year','odometer']:\n",
    "        continue\n",
    "    if sorted_nulldict[key] > 0 and sorted_nulldict[key]<5:\n",
    "        if key in cat_variables:\n",
    "            df_impute[key] = df_impute[key].fillna(df_impute[key].mode().iloc[0])\n",
    "        else:\n",
    "            df_impute[key] = imputer.fit_transform(df_impute[key])  "
   ]
  },
  {
   "cell_type": "code",
   "execution_count": 47,
   "metadata": {},
   "outputs": [
    {
     "name": "stderr",
     "output_type": "stream",
     "text": [
      "/var/folders/1c/4bzj7nbj0j56_hrl0nft9h1h0000gp/T/ipykernel_25896/904974666.py:5: SettingWithCopyWarning: \n",
      "A value is trying to be set on a copy of a slice from a DataFrame.\n",
      "Try using .loc[row_indexer,col_indexer] = value instead\n",
      "\n",
      "See the caveats in the documentation: https://pandas.pydata.org/pandas-docs/stable/user_guide/indexing.html#returning-a-view-versus-a-copy\n",
      "  df_impute[key] = df_impute[key].fillna('missing')\n"
     ]
    }
   ],
   "source": [
    "for key in sorted_nulldict:\n",
    "    if key in ['VIN','size']:\n",
    "        continue    \n",
    "    if sorted_nulldict[key]>5 and key in cat_variables:\n",
    "        df_impute[key] = df_impute[key].fillna('missing')"
   ]
  },
  {
   "cell_type": "code",
   "execution_count": 48,
   "metadata": {},
   "outputs": [
    {
     "data": {
      "text/html": [
       "<div>\n",
       "<style scoped>\n",
       "    .dataframe tbody tr th:only-of-type {\n",
       "        vertical-align: middle;\n",
       "    }\n",
       "\n",
       "    .dataframe tbody tr th {\n",
       "        vertical-align: top;\n",
       "    }\n",
       "\n",
       "    .dataframe thead th {\n",
       "        text-align: right;\n",
       "    }\n",
       "</style>\n",
       "<table border=\"1\" class=\"dataframe\">\n",
       "  <thead>\n",
       "    <tr style=\"text-align: right;\">\n",
       "      <th></th>\n",
       "      <th>region</th>\n",
       "      <th>price</th>\n",
       "      <th>year</th>\n",
       "      <th>manufacturer</th>\n",
       "      <th>condition</th>\n",
       "      <th>cylinders</th>\n",
       "      <th>fuel</th>\n",
       "      <th>odometer</th>\n",
       "      <th>title_status</th>\n",
       "      <th>transmission</th>\n",
       "      <th>drive</th>\n",
       "      <th>type</th>\n",
       "      <th>paint_color</th>\n",
       "      <th>state</th>\n",
       "    </tr>\n",
       "  </thead>\n",
       "  <tbody>\n",
       "    <tr>\n",
       "      <th>27</th>\n",
       "      <td>auburn</td>\n",
       "      <td>33590</td>\n",
       "      <td>2014.0</td>\n",
       "      <td>gmc</td>\n",
       "      <td>good</td>\n",
       "      <td>8 cylinders</td>\n",
       "      <td>gas</td>\n",
       "      <td>57923.0</td>\n",
       "      <td>clean</td>\n",
       "      <td>other</td>\n",
       "      <td>missing</td>\n",
       "      <td>pickup</td>\n",
       "      <td>white</td>\n",
       "      <td>al</td>\n",
       "    </tr>\n",
       "    <tr>\n",
       "      <th>28</th>\n",
       "      <td>auburn</td>\n",
       "      <td>22590</td>\n",
       "      <td>2010.0</td>\n",
       "      <td>chevrolet</td>\n",
       "      <td>good</td>\n",
       "      <td>8 cylinders</td>\n",
       "      <td>gas</td>\n",
       "      <td>71229.0</td>\n",
       "      <td>clean</td>\n",
       "      <td>other</td>\n",
       "      <td>missing</td>\n",
       "      <td>pickup</td>\n",
       "      <td>blue</td>\n",
       "      <td>al</td>\n",
       "    </tr>\n",
       "    <tr>\n",
       "      <th>29</th>\n",
       "      <td>auburn</td>\n",
       "      <td>39590</td>\n",
       "      <td>2020.0</td>\n",
       "      <td>chevrolet</td>\n",
       "      <td>good</td>\n",
       "      <td>8 cylinders</td>\n",
       "      <td>gas</td>\n",
       "      <td>19160.0</td>\n",
       "      <td>clean</td>\n",
       "      <td>other</td>\n",
       "      <td>missing</td>\n",
       "      <td>pickup</td>\n",
       "      <td>red</td>\n",
       "      <td>al</td>\n",
       "    </tr>\n",
       "    <tr>\n",
       "      <th>30</th>\n",
       "      <td>auburn</td>\n",
       "      <td>30990</td>\n",
       "      <td>2017.0</td>\n",
       "      <td>toyota</td>\n",
       "      <td>good</td>\n",
       "      <td>8 cylinders</td>\n",
       "      <td>gas</td>\n",
       "      <td>41124.0</td>\n",
       "      <td>clean</td>\n",
       "      <td>other</td>\n",
       "      <td>missing</td>\n",
       "      <td>pickup</td>\n",
       "      <td>red</td>\n",
       "      <td>al</td>\n",
       "    </tr>\n",
       "    <tr>\n",
       "      <th>31</th>\n",
       "      <td>auburn</td>\n",
       "      <td>15000</td>\n",
       "      <td>2013.0</td>\n",
       "      <td>ford</td>\n",
       "      <td>excellent</td>\n",
       "      <td>6 cylinders</td>\n",
       "      <td>gas</td>\n",
       "      <td>128000.0</td>\n",
       "      <td>clean</td>\n",
       "      <td>automatic</td>\n",
       "      <td>rwd</td>\n",
       "      <td>truck</td>\n",
       "      <td>black</td>\n",
       "      <td>al</td>\n",
       "    </tr>\n",
       "  </tbody>\n",
       "</table>\n",
       "</div>"
      ],
      "text/plain": [
       "    region  price    year manufacturer  condition    cylinders fuel  odometer  \\\n",
       "27  auburn  33590  2014.0          gmc       good  8 cylinders  gas   57923.0   \n",
       "28  auburn  22590  2010.0    chevrolet       good  8 cylinders  gas   71229.0   \n",
       "29  auburn  39590  2020.0    chevrolet       good  8 cylinders  gas   19160.0   \n",
       "30  auburn  30990  2017.0       toyota       good  8 cylinders  gas   41124.0   \n",
       "31  auburn  15000  2013.0         ford  excellent  6 cylinders  gas  128000.0   \n",
       "\n",
       "   title_status transmission    drive    type paint_color state  \n",
       "27        clean        other  missing  pickup       white    al  \n",
       "28        clean        other  missing  pickup        blue    al  \n",
       "29        clean        other  missing  pickup         red    al  \n",
       "30        clean        other  missing  pickup         red    al  \n",
       "31        clean    automatic      rwd   truck       black    al  "
      ]
     },
     "execution_count": 48,
     "metadata": {},
     "output_type": "execute_result"
    }
   ],
   "source": [
    "df_impute.head()"
   ]
  },
  {
   "cell_type": "code",
   "execution_count": 49,
   "metadata": {},
   "outputs": [
    {
     "data": {
      "text/plain": [
       "region          0.000000\n",
       "price           0.000000\n",
       "year            0.000000\n",
       "manufacturer    3.039354\n",
       "condition       0.000000\n",
       "cylinders       0.000000\n",
       "fuel            0.573067\n",
       "odometer        0.000000\n",
       "title_status    1.924933\n",
       "transmission    0.394363\n",
       "drive           0.000000\n",
       "type            0.000000\n",
       "paint_color     0.000000\n",
       "state           0.000000\n",
       "dtype: float64"
      ]
     },
     "execution_count": 49,
     "metadata": {},
     "output_type": "execute_result"
    }
   ],
   "source": [
    "df_impute.isna().sum()/df_impute.shape[0]*100"
   ]
  },
  {
   "cell_type": "code",
   "execution_count": 50,
   "metadata": {},
   "outputs": [],
   "source": [
    "df_encode = df_impute.copy()"
   ]
  },
  {
   "cell_type": "markdown",
   "metadata": {},
   "source": [
    "Lable Encoding"
   ]
  },
  {
   "cell_type": "code",
   "execution_count": 51,
   "metadata": {},
   "outputs": [
    {
     "name": "stdout",
     "output_type": "stream",
     "text": [
      "{'SF bay area': np.int64(0), 'abilene': np.int64(1), 'akron / canton': np.int64(2), 'albany': np.int64(3), 'albuquerque': np.int64(4), 'altoona-johnstown': np.int64(5), 'amarillo': np.int64(6), 'ames': np.int64(7), 'anchorage / mat-su': np.int64(8), 'ann arbor': np.int64(9), 'annapolis': np.int64(10), 'appleton-oshkosh-FDL': np.int64(11), 'asheville': np.int64(12), 'ashtabula': np.int64(13), 'athens': np.int64(14), 'atlanta': np.int64(15), 'auburn': np.int64(16), 'augusta': np.int64(17), 'austin': np.int64(18), 'bakersfield': np.int64(19), 'baltimore': np.int64(20), 'baton rouge': np.int64(21), 'battle creek': np.int64(22), 'beaumont / port arthur': np.int64(23), 'bellingham': np.int64(24), 'bemidji': np.int64(25), 'bend': np.int64(26), 'billings': np.int64(27), 'binghamton': np.int64(28), 'birmingham': np.int64(29), 'bismarck': np.int64(30), 'bloomington': np.int64(31), 'bloomington-normal': np.int64(32), 'boise': np.int64(33), 'boone': np.int64(34), 'boston': np.int64(35), 'boulder': np.int64(36), 'bowling green': np.int64(37), 'bozeman': np.int64(38), 'brainerd': np.int64(39), 'brownsville': np.int64(40), 'brunswick': np.int64(41), 'buffalo': np.int64(42), 'butte': np.int64(43), 'cape cod / islands': np.int64(44), 'catskills': np.int64(45), 'cedar rapids': np.int64(46), 'central NJ': np.int64(47), 'central louisiana': np.int64(48), 'central michigan': np.int64(49), 'champaign urbana': np.int64(50), 'charleston': np.int64(51), 'charlotte': np.int64(52), 'charlottesville': np.int64(53), 'chattanooga': np.int64(54), 'chautauqua': np.int64(55), 'chicago': np.int64(56), 'chico': np.int64(57), 'chillicothe': np.int64(58), 'cincinnati': np.int64(59), 'clarksville': np.int64(60), 'cleveland': np.int64(61), 'clovis / portales': np.int64(62), 'college station': np.int64(63), 'colorado springs': np.int64(64), 'columbia': np.int64(65), 'columbia / jeff city': np.int64(66), 'columbus': np.int64(67), 'cookeville': np.int64(68), 'corpus christi': np.int64(69), 'corvallis/albany': np.int64(70), 'cumberland valley': np.int64(71), 'dallas / fort worth': np.int64(72), 'danville': np.int64(73), 'dayton / springfield': np.int64(74), 'daytona beach': np.int64(75), 'decatur': np.int64(76), 'deep east texas': np.int64(77), 'del rio / eagle pass': np.int64(78), 'delaware': np.int64(79), 'denver': np.int64(80), 'des moines': np.int64(81), 'detroit metro': np.int64(82), 'dothan': np.int64(83), 'dubuque': np.int64(84), 'duluth / superior': np.int64(85), 'east idaho': np.int64(86), 'east oregon': np.int64(87), 'eastern CO': np.int64(88), 'eastern CT': np.int64(89), 'eastern NC': np.int64(90), 'eastern kentucky': np.int64(91), 'eastern montana': np.int64(92), 'eastern panhandle': np.int64(93), 'eastern shore': np.int64(94), 'eau claire': np.int64(95), 'el paso': np.int64(96), 'elko': np.int64(97), 'elmira-corning': np.int64(98), 'erie': np.int64(99), 'eugene': np.int64(100), 'evansville': np.int64(101), 'fairbanks': np.int64(102), 'fargo / moorhead': np.int64(103), 'farmington': np.int64(104), 'fayetteville': np.int64(105), 'finger lakes': np.int64(106), 'flagstaff / sedona': np.int64(107), 'flint': np.int64(108), 'florence': np.int64(109), 'florence / muscle shoals': np.int64(110), 'florida keys': np.int64(111), 'fort collins / north CO': np.int64(112), 'fort dodge': np.int64(113), 'fort smith': np.int64(114), 'fort smith, AR': np.int64(115), 'fort wayne': np.int64(116), 'frederick': np.int64(117), 'fredericksburg': np.int64(118), 'fresno / madera': np.int64(119), 'ft myers / SW florida': np.int64(120), 'gadsden-anniston': np.int64(121), 'gainesville': np.int64(122), 'galveston': np.int64(123), 'glens falls': np.int64(124), 'gold country': np.int64(125), 'grand forks': np.int64(126), 'grand island': np.int64(127), 'grand rapids': np.int64(128), 'great falls': np.int64(129), 'green bay': np.int64(130), 'greensboro': np.int64(131), 'greenville / upstate': np.int64(132), 'gulfport / biloxi': np.int64(133), 'hanford-corcoran': np.int64(134), 'harrisburg': np.int64(135), 'harrisonburg': np.int64(136), 'hartford': np.int64(137), 'hattiesburg': np.int64(138), 'hawaii': np.int64(139), 'heartland florida': np.int64(140), 'helena': np.int64(141), 'hickory / lenoir': np.int64(142), 'high rockies': np.int64(143), 'hilton head': np.int64(144), 'holland': np.int64(145), 'houma': np.int64(146), 'houston': np.int64(147), 'hudson valley': np.int64(148), 'humboldt county': np.int64(149), 'huntington-ashland': np.int64(150), 'huntsville / decatur': np.int64(151), 'imperial county': np.int64(152), 'indianapolis': np.int64(153), 'inland empire': np.int64(154), 'iowa city': np.int64(155), 'ithaca': np.int64(156), 'jackson': np.int64(157), 'jacksonville': np.int64(158), 'janesville': np.int64(159), 'jersey shore': np.int64(160), 'jonesboro': np.int64(161), 'joplin': np.int64(162), 'kalamazoo': np.int64(163), 'kalispell': np.int64(164), 'kansas city': np.int64(165), 'kansas city, MO': np.int64(166), 'kenai peninsula': np.int64(167), 'kennewick-pasco-richland': np.int64(168), 'kenosha-racine': np.int64(169), 'killeen / temple / ft hood': np.int64(170), 'kirksville': np.int64(171), 'klamath falls': np.int64(172), 'knoxville': np.int64(173), 'kokomo': np.int64(174), 'la crosse': np.int64(175), 'la salle co': np.int64(176), 'lafayette': np.int64(177), 'lafayette / west lafayette': np.int64(178), 'lake charles': np.int64(179), 'lake of the ozarks': np.int64(180), 'lakeland': np.int64(181), 'lancaster': np.int64(182), 'lansing': np.int64(183), 'laredo': np.int64(184), 'las cruces': np.int64(185), 'las vegas': np.int64(186), 'lawrence': np.int64(187), 'lawton': np.int64(188), 'lehigh valley': np.int64(189), 'lewiston / clarkston': np.int64(190), 'lexington': np.int64(191), 'lima / findlay': np.int64(192), 'lincoln': np.int64(193), 'little rock': np.int64(194), 'logan': np.int64(195), 'long island': np.int64(196), 'los angeles': np.int64(197), 'louisville': np.int64(198), 'lubbock': np.int64(199), 'lynchburg': np.int64(200), 'macon / warner robins': np.int64(201), 'madison': np.int64(202), 'maine': np.int64(203), 'manhattan': np.int64(204), 'mankato': np.int64(205), 'mansfield': np.int64(206), 'mason city': np.int64(207), 'mattoon-charleston': np.int64(208), 'mcallen / edinburg': np.int64(209), 'meadville': np.int64(210), 'medford-ashland': np.int64(211), 'memphis': np.int64(212), 'mendocino county': np.int64(213), 'merced': np.int64(214), 'meridian': np.int64(215), 'milwaukee': np.int64(216), 'minneapolis / st paul': np.int64(217), 'missoula': np.int64(218), 'mobile': np.int64(219), 'modesto': np.int64(220), 'mohave county': np.int64(221), 'monroe': np.int64(222), 'monterey bay': np.int64(223), 'montgomery': np.int64(224), 'morgantown': np.int64(225), 'moses lake': np.int64(226), 'muncie / anderson': np.int64(227), 'muskegon': np.int64(228), 'myrtle beach': np.int64(229), 'nashville': np.int64(230), 'new hampshire': np.int64(231), 'new haven': np.int64(232), 'new orleans': np.int64(233), 'new river valley': np.int64(234), 'new york city': np.int64(235), 'norfolk / hampton roads': np.int64(236), 'north central FL': np.int64(237), 'north dakota': np.int64(238), 'north jersey': np.int64(239), 'north mississippi': np.int64(240), 'north platte': np.int64(241), 'northeast SD': np.int64(242), 'northern WI': np.int64(243), 'northern michigan': np.int64(244), 'northern panhandle': np.int64(245), 'northwest CT': np.int64(246), 'northwest GA': np.int64(247), 'northwest KS': np.int64(248), 'northwest OK': np.int64(249), 'ocala': np.int64(250), 'odessa / midland': np.int64(251), 'ogden-clearfield': np.int64(252), 'okaloosa / walton': np.int64(253), 'oklahoma city': np.int64(254), 'olympic peninsula': np.int64(255), 'omaha / council bluffs': np.int64(256), 'oneonta': np.int64(257), 'orange county': np.int64(258), 'oregon coast': np.int64(259), 'orlando': np.int64(260), 'outer banks': np.int64(261), 'owensboro': np.int64(262), 'palm springs': np.int64(263), 'panama city': np.int64(264), 'parkersburg-marietta': np.int64(265), 'pensacola': np.int64(266), 'peoria': np.int64(267), 'philadelphia': np.int64(268), 'phoenix': np.int64(269), 'pierre / central SD': np.int64(270), 'pittsburgh': np.int64(271), 'plattsburgh-adirondacks': np.int64(272), 'poconos': np.int64(273), 'port huron': np.int64(274), 'portland': np.int64(275), 'potsdam-canton-massena': np.int64(276), 'prescott': np.int64(277), 'provo / orem': np.int64(278), 'pueblo': np.int64(279), 'pullman / moscow': np.int64(280), 'quad cities, IA/IL': np.int64(281), 'raleigh / durham / CH': np.int64(282), 'rapid city / west SD': np.int64(283), 'reading': np.int64(284), 'redding': np.int64(285), 'reno / tahoe': np.int64(286), 'rhode island': np.int64(287), 'richmond': np.int64(288), 'roanoke': np.int64(289), 'rochester': np.int64(290), 'rockford': np.int64(291), 'roseburg': np.int64(292), 'roswell / carlsbad': np.int64(293), 'sacramento': np.int64(294), 'saginaw-midland-baycity': np.int64(295), 'salem': np.int64(296), 'salina': np.int64(297), 'salt lake city': np.int64(298), 'san angelo': np.int64(299), 'san antonio': np.int64(300), 'san diego': np.int64(301), 'san luis obispo': np.int64(302), 'san marcos': np.int64(303), 'sandusky': np.int64(304), 'santa barbara': np.int64(305), 'santa fe / taos': np.int64(306), 'santa maria': np.int64(307), 'sarasota-bradenton': np.int64(308), 'savannah / hinesville': np.int64(309), 'scottsbluff / panhandle': np.int64(310), 'scranton / wilkes-barre': np.int64(311), 'seattle-tacoma': np.int64(312), 'sheboygan': np.int64(313), 'show low': np.int64(314), 'shreveport': np.int64(315), 'sierra vista': np.int64(316), 'sioux city': np.int64(317), 'sioux falls / SE SD': np.int64(318), 'siskiyou county': np.int64(319), 'skagit / island / SJI': np.int64(320), 'south bend / michiana': np.int64(321), 'south coast': np.int64(322), 'south dakota': np.int64(323), 'south florida': np.int64(324), 'south jersey': np.int64(325), 'southeast IA': np.int64(326), 'southeast KS': np.int64(327), 'southeast alaska': np.int64(328), 'southeast missouri': np.int64(329), 'southern WV': np.int64(330), 'southern illinois': np.int64(331), 'southern maryland': np.int64(332), 'southwest KS': np.int64(333), 'southwest MN': np.int64(334), 'southwest MS': np.int64(335), 'southwest TX': np.int64(336), 'southwest VA': np.int64(337), 'southwest michigan': np.int64(338), 'space coast': np.int64(339), \"spokane / coeur d'alene\": np.int64(340), 'springfield': np.int64(341), 'st augustine': np.int64(342), 'st cloud': np.int64(343), 'st george': np.int64(344), 'st joseph': np.int64(345), 'st louis': np.int64(346), 'st louis, MO': np.int64(347), 'state college': np.int64(348), 'statesboro': np.int64(349), 'stillwater': np.int64(350), 'stockton': np.int64(351), 'susanville': np.int64(352), 'syracuse': np.int64(353), 'tallahassee': np.int64(354), 'tampa bay area': np.int64(355), 'terre haute': np.int64(356), 'texarkana': np.int64(357), 'texoma': np.int64(358), 'the thumb': np.int64(359), 'toledo': np.int64(360), 'topeka': np.int64(361), 'treasure coast': np.int64(362), 'tri-cities': np.int64(363), 'tucson': np.int64(364), 'tulsa': np.int64(365), 'tuscaloosa': np.int64(366), 'tuscarawas co': np.int64(367), 'twin falls': np.int64(368), 'twin tiers NY/PA': np.int64(369), 'tyler / east TX': np.int64(370), 'upper peninsula': np.int64(371), 'utica-rome-oneida': np.int64(372), 'valdosta': np.int64(373), 'ventura county': np.int64(374), 'vermont': np.int64(375), 'victoria': np.int64(376), 'visalia-tulare': np.int64(377), 'waco': np.int64(378), 'washington, DC': np.int64(379), 'waterloo / cedar falls': np.int64(380), 'watertown': np.int64(381), 'wausau': np.int64(382), 'wenatchee': np.int64(383), 'west virginia (old)': np.int64(384), 'western IL': np.int64(385), 'western KY': np.int64(386), 'western maryland': np.int64(387), 'western massachusetts': np.int64(388), 'western slope': np.int64(389), 'wichita': np.int64(390), 'wichita falls': np.int64(391), 'williamsport': np.int64(392), 'wilmington': np.int64(393), 'winchester': np.int64(394), 'winston-salem': np.int64(395), 'worcester / central MA': np.int64(396), 'wyoming': np.int64(397), 'yakima': np.int64(398), 'york': np.int64(399), 'youngstown': np.int64(400), 'yuba-sutter': np.int64(401), 'yuma': np.int64(402), 'zanesville / cambridge': np.int64(403)}\n",
      "\n",
      "-----------\n",
      "\n",
      "{'acura': np.int64(0), 'alfa-romeo': np.int64(1), 'aston-martin': np.int64(2), 'audi': np.int64(3), 'bmw': np.int64(4), 'buick': np.int64(5), 'cadillac': np.int64(6), 'chevrolet': np.int64(7), 'chrysler': np.int64(8), 'dodge': np.int64(9), 'ferrari': np.int64(10), 'fiat': np.int64(11), 'ford': np.int64(12), 'gmc': np.int64(13), 'harley-davidson': np.int64(14), 'honda': np.int64(15), 'hyundai': np.int64(16), 'infiniti': np.int64(17), 'jaguar': np.int64(18), 'jeep': np.int64(19), 'kia': np.int64(20), 'land rover': np.int64(21), 'lexus': np.int64(22), 'lincoln': np.int64(23), 'mazda': np.int64(24), 'mercedes-benz': np.int64(25), 'mercury': np.int64(26), 'mini': np.int64(27), 'mitsubishi': np.int64(28), 'morgan': np.int64(29), 'nissan': np.int64(30), 'pontiac': np.int64(31), 'porsche': np.int64(32), 'ram': np.int64(33), 'rover': np.int64(34), 'saturn': np.int64(35), 'subaru': np.int64(36), 'tesla': np.int64(37), 'toyota': np.int64(38), 'volkswagen': np.int64(39), 'volvo': np.int64(40), nan: np.int64(41)}\n",
      "\n",
      "-----------\n",
      "\n",
      "{'excellent': np.int64(0), 'fair': np.int64(1), 'good': np.int64(2), 'like new': np.int64(3), 'missing': np.int64(4), 'new': np.int64(5), 'salvage': np.int64(6)}\n",
      "\n",
      "-----------\n",
      "\n",
      "{'10 cylinders': np.int64(0), '12 cylinders': np.int64(1), '3 cylinders': np.int64(2), '4 cylinders': np.int64(3), '5 cylinders': np.int64(4), '6 cylinders': np.int64(5), '8 cylinders': np.int64(6), 'missing': np.int64(7), 'other': np.int64(8)}\n",
      "\n",
      "-----------\n",
      "\n",
      "{'diesel': np.int64(0), 'electric': np.int64(1), 'gas': np.int64(2), 'hybrid': np.int64(3), 'other': np.int64(4), nan: np.int64(5)}\n",
      "\n",
      "-----------\n",
      "\n",
      "{'clean': np.int64(0), 'lien': np.int64(1), 'missing': np.int64(2), 'parts only': np.int64(3), 'rebuilt': np.int64(4), 'salvage': np.int64(5), nan: np.int64(6)}\n",
      "\n",
      "-----------\n",
      "\n",
      "{'automatic': np.int64(0), 'manual': np.int64(1), 'other': np.int64(2), nan: np.int64(3)}\n",
      "\n",
      "-----------\n",
      "\n",
      "{'4wd': np.int64(0), 'fwd': np.int64(1), 'missing': np.int64(2), 'rwd': np.int64(3)}\n",
      "\n",
      "-----------\n",
      "\n",
      "{'SUV': np.int64(0), 'bus': np.int64(1), 'convertible': np.int64(2), 'coupe': np.int64(3), 'hatchback': np.int64(4), 'mini-van': np.int64(5), 'missing': np.int64(6), 'offroad': np.int64(7), 'other': np.int64(8), 'pickup': np.int64(9), 'sedan': np.int64(10), 'truck': np.int64(11), 'van': np.int64(12), 'wagon': np.int64(13)}\n",
      "\n",
      "-----------\n",
      "\n",
      "{'black': np.int64(0), 'blue': np.int64(1), 'brown': np.int64(2), 'custom': np.int64(3), 'green': np.int64(4), 'grey': np.int64(5), 'missing': np.int64(6), 'orange': np.int64(7), 'purple': np.int64(8), 'red': np.int64(9), 'silver': np.int64(10), 'white': np.int64(11), 'yellow': np.int64(12)}\n",
      "\n",
      "-----------\n",
      "\n",
      "{'ak': np.int64(0), 'al': np.int64(1), 'ar': np.int64(2), 'az': np.int64(3), 'ca': np.int64(4), 'co': np.int64(5), 'ct': np.int64(6), 'dc': np.int64(7), 'de': np.int64(8), 'fl': np.int64(9), 'ga': np.int64(10), 'hi': np.int64(11), 'ia': np.int64(12), 'id': np.int64(13), 'il': np.int64(14), 'in': np.int64(15), 'ks': np.int64(16), 'ky': np.int64(17), 'la': np.int64(18), 'ma': np.int64(19), 'md': np.int64(20), 'me': np.int64(21), 'mi': np.int64(22), 'mn': np.int64(23), 'mo': np.int64(24), 'ms': np.int64(25), 'mt': np.int64(26), 'nc': np.int64(27), 'nd': np.int64(28), 'ne': np.int64(29), 'nh': np.int64(30), 'nj': np.int64(31), 'nm': np.int64(32), 'nv': np.int64(33), 'ny': np.int64(34), 'oh': np.int64(35), 'ok': np.int64(36), 'or': np.int64(37), 'pa': np.int64(38), 'ri': np.int64(39), 'sc': np.int64(40), 'sd': np.int64(41), 'tn': np.int64(42), 'tx': np.int64(43), 'ut': np.int64(44), 'va': np.int64(45), 'vt': np.int64(46), 'wa': np.int64(47), 'wi': np.int64(48), 'wv': np.int64(49), 'wy': np.int64(50)}\n",
      "\n",
      "-----------\n",
      "\n"
     ]
    }
   ],
   "source": [
    "from sklearn import preprocessing\n",
    "\n",
    "le = preprocessing.LabelEncoder()\n",
    "for i in cat_variables:\n",
    "    df_encode[i] = le.fit_transform(df_impute[i])\n",
    "    le_name_mapping = dict(zip(le.classes_, le.transform(le.classes_)))\n",
    "    print(le_name_mapping)\n",
    "    print('\\n-----------\\n')"
   ]
  },
  {
   "cell_type": "code",
   "execution_count": 52,
   "metadata": {},
   "outputs": [
    {
     "data": {
      "text/html": [
       "<div>\n",
       "<style scoped>\n",
       "    .dataframe tbody tr th:only-of-type {\n",
       "        vertical-align: middle;\n",
       "    }\n",
       "\n",
       "    .dataframe tbody tr th {\n",
       "        vertical-align: top;\n",
       "    }\n",
       "\n",
       "    .dataframe thead th {\n",
       "        text-align: right;\n",
       "    }\n",
       "</style>\n",
       "<table border=\"1\" class=\"dataframe\">\n",
       "  <thead>\n",
       "    <tr style=\"text-align: right;\">\n",
       "      <th></th>\n",
       "      <th>region</th>\n",
       "      <th>price</th>\n",
       "      <th>year</th>\n",
       "      <th>manufacturer</th>\n",
       "      <th>condition</th>\n",
       "      <th>cylinders</th>\n",
       "      <th>fuel</th>\n",
       "      <th>odometer</th>\n",
       "      <th>title_status</th>\n",
       "      <th>transmission</th>\n",
       "      <th>drive</th>\n",
       "      <th>type</th>\n",
       "      <th>paint_color</th>\n",
       "      <th>state</th>\n",
       "    </tr>\n",
       "  </thead>\n",
       "  <tbody>\n",
       "    <tr>\n",
       "      <th>27</th>\n",
       "      <td>16</td>\n",
       "      <td>33590</td>\n",
       "      <td>2014.0</td>\n",
       "      <td>13</td>\n",
       "      <td>2</td>\n",
       "      <td>6</td>\n",
       "      <td>2</td>\n",
       "      <td>57923.0</td>\n",
       "      <td>0</td>\n",
       "      <td>2</td>\n",
       "      <td>2</td>\n",
       "      <td>9</td>\n",
       "      <td>11</td>\n",
       "      <td>1</td>\n",
       "    </tr>\n",
       "    <tr>\n",
       "      <th>28</th>\n",
       "      <td>16</td>\n",
       "      <td>22590</td>\n",
       "      <td>2010.0</td>\n",
       "      <td>7</td>\n",
       "      <td>2</td>\n",
       "      <td>6</td>\n",
       "      <td>2</td>\n",
       "      <td>71229.0</td>\n",
       "      <td>0</td>\n",
       "      <td>2</td>\n",
       "      <td>2</td>\n",
       "      <td>9</td>\n",
       "      <td>1</td>\n",
       "      <td>1</td>\n",
       "    </tr>\n",
       "    <tr>\n",
       "      <th>29</th>\n",
       "      <td>16</td>\n",
       "      <td>39590</td>\n",
       "      <td>2020.0</td>\n",
       "      <td>7</td>\n",
       "      <td>2</td>\n",
       "      <td>6</td>\n",
       "      <td>2</td>\n",
       "      <td>19160.0</td>\n",
       "      <td>0</td>\n",
       "      <td>2</td>\n",
       "      <td>2</td>\n",
       "      <td>9</td>\n",
       "      <td>9</td>\n",
       "      <td>1</td>\n",
       "    </tr>\n",
       "    <tr>\n",
       "      <th>30</th>\n",
       "      <td>16</td>\n",
       "      <td>30990</td>\n",
       "      <td>2017.0</td>\n",
       "      <td>38</td>\n",
       "      <td>2</td>\n",
       "      <td>6</td>\n",
       "      <td>2</td>\n",
       "      <td>41124.0</td>\n",
       "      <td>0</td>\n",
       "      <td>2</td>\n",
       "      <td>2</td>\n",
       "      <td>9</td>\n",
       "      <td>9</td>\n",
       "      <td>1</td>\n",
       "    </tr>\n",
       "    <tr>\n",
       "      <th>31</th>\n",
       "      <td>16</td>\n",
       "      <td>15000</td>\n",
       "      <td>2013.0</td>\n",
       "      <td>12</td>\n",
       "      <td>0</td>\n",
       "      <td>5</td>\n",
       "      <td>2</td>\n",
       "      <td>128000.0</td>\n",
       "      <td>0</td>\n",
       "      <td>0</td>\n",
       "      <td>3</td>\n",
       "      <td>11</td>\n",
       "      <td>0</td>\n",
       "      <td>1</td>\n",
       "    </tr>\n",
       "    <tr>\n",
       "      <th>...</th>\n",
       "      <td>...</td>\n",
       "      <td>...</td>\n",
       "      <td>...</td>\n",
       "      <td>...</td>\n",
       "      <td>...</td>\n",
       "      <td>...</td>\n",
       "      <td>...</td>\n",
       "      <td>...</td>\n",
       "      <td>...</td>\n",
       "      <td>...</td>\n",
       "      <td>...</td>\n",
       "      <td>...</td>\n",
       "      <td>...</td>\n",
       "      <td>...</td>\n",
       "    </tr>\n",
       "    <tr>\n",
       "      <th>426875</th>\n",
       "      <td>397</td>\n",
       "      <td>23590</td>\n",
       "      <td>2019.0</td>\n",
       "      <td>30</td>\n",
       "      <td>2</td>\n",
       "      <td>5</td>\n",
       "      <td>2</td>\n",
       "      <td>32226.0</td>\n",
       "      <td>0</td>\n",
       "      <td>2</td>\n",
       "      <td>1</td>\n",
       "      <td>10</td>\n",
       "      <td>6</td>\n",
       "      <td>50</td>\n",
       "    </tr>\n",
       "    <tr>\n",
       "      <th>426876</th>\n",
       "      <td>397</td>\n",
       "      <td>30590</td>\n",
       "      <td>2020.0</td>\n",
       "      <td>40</td>\n",
       "      <td>2</td>\n",
       "      <td>7</td>\n",
       "      <td>2</td>\n",
       "      <td>12029.0</td>\n",
       "      <td>0</td>\n",
       "      <td>2</td>\n",
       "      <td>1</td>\n",
       "      <td>10</td>\n",
       "      <td>9</td>\n",
       "      <td>50</td>\n",
       "    </tr>\n",
       "    <tr>\n",
       "      <th>426877</th>\n",
       "      <td>397</td>\n",
       "      <td>34990</td>\n",
       "      <td>2020.0</td>\n",
       "      <td>6</td>\n",
       "      <td>2</td>\n",
       "      <td>7</td>\n",
       "      <td>0</td>\n",
       "      <td>4174.0</td>\n",
       "      <td>0</td>\n",
       "      <td>2</td>\n",
       "      <td>2</td>\n",
       "      <td>4</td>\n",
       "      <td>11</td>\n",
       "      <td>50</td>\n",
       "    </tr>\n",
       "    <tr>\n",
       "      <th>426878</th>\n",
       "      <td>397</td>\n",
       "      <td>28990</td>\n",
       "      <td>2018.0</td>\n",
       "      <td>22</td>\n",
       "      <td>2</td>\n",
       "      <td>5</td>\n",
       "      <td>2</td>\n",
       "      <td>30112.0</td>\n",
       "      <td>0</td>\n",
       "      <td>2</td>\n",
       "      <td>1</td>\n",
       "      <td>10</td>\n",
       "      <td>10</td>\n",
       "      <td>50</td>\n",
       "    </tr>\n",
       "    <tr>\n",
       "      <th>426879</th>\n",
       "      <td>397</td>\n",
       "      <td>30590</td>\n",
       "      <td>2019.0</td>\n",
       "      <td>4</td>\n",
       "      <td>2</td>\n",
       "      <td>7</td>\n",
       "      <td>2</td>\n",
       "      <td>22716.0</td>\n",
       "      <td>0</td>\n",
       "      <td>2</td>\n",
       "      <td>3</td>\n",
       "      <td>3</td>\n",
       "      <td>6</td>\n",
       "      <td>50</td>\n",
       "    </tr>\n",
       "  </tbody>\n",
       "</table>\n",
       "<p>362610 rows × 14 columns</p>\n",
       "</div>"
      ],
      "text/plain": [
       "        region  price    year  manufacturer  condition  cylinders  fuel  \\\n",
       "27          16  33590  2014.0            13          2          6     2   \n",
       "28          16  22590  2010.0             7          2          6     2   \n",
       "29          16  39590  2020.0             7          2          6     2   \n",
       "30          16  30990  2017.0            38          2          6     2   \n",
       "31          16  15000  2013.0            12          0          5     2   \n",
       "...        ...    ...     ...           ...        ...        ...   ...   \n",
       "426875     397  23590  2019.0            30          2          5     2   \n",
       "426876     397  30590  2020.0            40          2          7     2   \n",
       "426877     397  34990  2020.0             6          2          7     0   \n",
       "426878     397  28990  2018.0            22          2          5     2   \n",
       "426879     397  30590  2019.0             4          2          7     2   \n",
       "\n",
       "        odometer  title_status  transmission  drive  type  paint_color  state  \n",
       "27       57923.0             0             2      2     9           11      1  \n",
       "28       71229.0             0             2      2     9            1      1  \n",
       "29       19160.0             0             2      2     9            9      1  \n",
       "30       41124.0             0             2      2     9            9      1  \n",
       "31      128000.0             0             0      3    11            0      1  \n",
       "...          ...           ...           ...    ...   ...          ...    ...  \n",
       "426875   32226.0             0             2      1    10            6     50  \n",
       "426876   12029.0             0             2      1    10            9     50  \n",
       "426877    4174.0             0             2      2     4           11     50  \n",
       "426878   30112.0             0             2      1    10           10     50  \n",
       "426879   22716.0             0             2      3     3            6     50  \n",
       "\n",
       "[362610 rows x 14 columns]"
      ]
     },
     "execution_count": 52,
     "metadata": {},
     "output_type": "execute_result"
    }
   ],
   "source": [
    "df_encode"
   ]
  },
  {
   "cell_type": "markdown",
   "metadata": {},
   "source": [
    "Data Understanding More"
   ]
  },
  {
   "cell_type": "code",
   "execution_count": null,
   "metadata": {},
   "outputs": [],
   "source": [
    "df_final = df_encode.copy()\n",
    "fig = sns.countplot(df_final.cylinders)\n",
    "fig.title.set_text(\"Distribution of Cylinder of Cars\")"
   ]
  },
  {
   "cell_type": "code",
   "execution_count": null,
   "metadata": {},
   "outputs": [],
   "source": [
    "sample_cars = df_final[['price', 'year','odometer', 'transmission','type']]\n",
    "sample_cars = sample_cars.sample(n = 10000, random_state =1)\n",
    "sample_cars"
   ]
  },
  {
   "cell_type": "code",
   "execution_count": null,
   "metadata": {},
   "outputs": [],
   "source": [
    "sns.pairplot(sample_cars, hue = 'type')"
   ]
  },
  {
   "cell_type": "code",
   "execution_count": null,
   "metadata": {},
   "outputs": [],
   "source": [
    "#2nd Sample for features of 'price', 'manufacturer','cylinders', 'fuel','title_status','condition'\n",
    "sample_cars2 = df_final[['price', 'manufacturer','cylinders', 'fuel','title_status','condition']]\n",
    "sample_cars2 = sample_cars2.sample(n = 10000, random_state =1)\n",
    "sample_cars2"
   ]
  },
  {
   "cell_type": "code",
   "execution_count": null,
   "metadata": {},
   "outputs": [],
   "source": [
    "#pairplot\n",
    "sns.pairplot(sample_cars2, hue = 'condition')"
   ]
  },
  {
   "cell_type": "code",
   "execution_count": null,
   "metadata": {},
   "outputs": [],
   "source": [
    "#Third Sample for features of 'price', 'region','drive', 'paint_color','state'\n",
    "sample_cars3 = df_final[['price', 'region','drive', 'paint_color','state']]\n",
    "sample_cars3 = sample_cars3.sample(n = 10000, random_state =1)\n",
    "sample_cars3"
   ]
  },
  {
   "cell_type": "code",
   "execution_count": null,
   "metadata": {},
   "outputs": [],
   "source": [
    "#pairplot\n",
    "sns.pairplot(sample_cars3, hue = 'drive')"
   ]
  },
  {
   "cell_type": "code",
   "execution_count": null,
   "metadata": {},
   "outputs": [],
   "source": [
    "#HeatMap\n",
    "plt.figure(figsize=(16, 6))\n",
    "heatmap = sns.heatmap(df_final.corr(), vmin=-1, vmax=1, annot=True, cmap='BrBG')\n",
    "heatmap.set_title('Correlation Heatmap', fontdict={'fontsize':18}, pad=12);"
   ]
  },
  {
   "cell_type": "markdown",
   "metadata": {},
   "source": [
    "### Modeling\n",
    "\n",
    "With your (almost?) final dataset in hand, it is now time to build some models.  Here, you should build a number of different regression models with the price as the target.  In building your models, you should explore different parameters and be sure to cross-validate your findings."
   ]
  },
  {
   "cell_type": "markdown",
   "metadata": {},
   "source": [
    "#regression"
   ]
  },
  {
   "cell_type": "code",
   "execution_count": null,
   "metadata": {},
   "outputs": [],
   "source": [
    "# split the data into training data and develoment data using \n",
    "\n",
    "X = df_final.drop(columns = ['price'])\n",
    "y = df_final['price']\n",
    "        \n",
    "X_train, X_test, y_train, y_test = train_test_split(X, y, test_size=0.30, random_state=42, shuffle=True)"
   ]
  },
  {
   "cell_type": "code",
   "execution_count": null,
   "metadata": {},
   "outputs": [],
   "source": [
    "X_train"
   ]
  },
  {
   "cell_type": "markdown",
   "metadata": {},
   "source": [
    "## Linear Regression"
   ]
  },
  {
   "cell_type": "code",
   "execution_count": null,
   "metadata": {},
   "outputs": [],
   "source": [
    "#Building a pipeline for the linear regression\n",
    "\n",
    "Linear_pipe =  Pipeline([('scaler', StandardScaler()),\n",
    "                     ('linear', LinearRegression())])\n",
    "\n",
    "\n",
    "#Perform Linear regression on the data\n",
    "\n",
    "Linear_pipe.fit(X_train, y_train)\n",
    "train_predict=Linear_pipe.predict(X_train)\n",
    "test_predict=Linear_pipe.predict(X_test)\n",
    "\n",
    "\n",
    "#Regression Error\n",
    "Linear_train_mse = mean_squared_error(train_predict, y_train)\n",
    "Linear_test_mse = mean_squared_error(test_predict, y_test)\n",
    "Linear_train_mae = mean_absolute_error(train_predict, y_train)\n",
    "Linear_test_mae = mean_absolute_error(test_predict, y_test)\n",
    "\n",
    "\n",
    "\n",
    "#Check\n",
    "linear_coefs = Linear_pipe.named_steps['linear'].coef_\n",
    "print(Linear_pipe)\n",
    "print(linear_coefs)  \n",
    "\n",
    "print(f\"Linear Model: train_mse={Linear_train_mse}, test_mse={Linear_test_mse}\")\n",
    "print(f\"Linear Model: train_mae={Linear_train_mae}, test_mae={Linear_test_mae}\")\n",
    "print(Linear_pipe.score(X_test, y_test))"
   ]
  },
  {
   "cell_type": "markdown",
   "metadata": {},
   "source": [
    "##### Polynomial Regression 2"
   ]
  },
  {
   "cell_type": "code",
   "execution_count": null,
   "metadata": {},
   "outputs": [],
   "source": [
    "#Building a pipeline for the polynomial regression\n",
    "\n",
    "Poly2_pipe =  Pipeline([('scaler', StandardScaler()),\n",
    "                     ('feature_transform', PolynomialFeatures(degree=2, include_bias=False)),\n",
    "                       ('linear', LinearRegression())])\n",
    "\n",
    "\n",
    "#Perform polynomial regression on the data\n",
    "\n",
    "Poly2_pipe.fit(X_train, y_train)\n",
    "train_predict=Poly2_pipe.predict(X_train)\n",
    "test_predict=Poly2_pipe.predict(X_test)\n",
    "\n",
    "\n",
    "#Regression Error\n",
    "Poly2_train_mse = mean_squared_error(train_predict, y_train)\n",
    "Poly2_test_mse = mean_squared_error(test_predict, y_test)\n",
    "Poly2_train_mae = mean_absolute_error(train_predict, y_train)\n",
    "Poly2_test_mae = mean_absolute_error(test_predict, y_test)\n",
    "\n",
    "\n",
    "\n",
    "#Check\n",
    "Poly2_coefs = Poly2_pipe.named_steps['linear'].coef_\n",
    "print(Poly2_pipe)\n",
    "print(Poly2_coefs)  \n",
    "\n",
    "print(f\"Polynomial Degree 2 Model: train_mse={Poly2_train_mse}, test_mse={Poly2_test_mse}\")\n",
    "print(f\"Polynomial Degree 2 Model: train_mae={Poly2_train_mae}, test_mae={Poly2_test_mae}\")\n",
    "print(Poly2_pipe.score(X_test, y_test))"
   ]
  },
  {
   "cell_type": "code",
   "execution_count": null,
   "metadata": {},
   "outputs": [],
   "source": [
    "#Building a pipeline for the polynomial regression\n",
    "\n",
    "Poly3_pipe =  Pipeline([('scaler', StandardScaler()),\n",
    "                     ('feature_transform', PolynomialFeatures(degree=3, include_bias=False)),\n",
    "                       ('linear', LinearRegression())])\n",
    "\n",
    "\n",
    "#Perform polynomial regression on the data\n",
    "\n",
    "Poly3_pipe.fit(X_train, y_train)\n",
    "train_predict=Poly3_pipe.predict(X_train)\n",
    "test_predict=Poly3_pipe.predict(X_test)\n",
    "\n",
    "\n",
    "#Regression Error\n",
    "Poly3_train_mse = mean_squared_error(train_predict, y_train)\n",
    "Poly3_test_mse = mean_squared_error(test_predict, y_test)\n",
    "Poly3_train_mae = mean_absolute_error(train_predict, y_train)\n",
    "Poly3_test_mae = mean_absolute_error(test_predict, y_test)\n",
    "\n",
    "\n",
    "\n",
    "#Check\n",
    "Poly3_coefs = Poly3_pipe.named_steps['linear'].coef_\n",
    "print(Poly3_pipe)\n",
    "print(Poly3_coefs)  \n",
    "\n",
    "print(f\"Polynomial Degree 3 Model: train_mse={Poly3_train_mse}, test_mse={Poly3_test_mse}\")\n",
    "print(f\"Polynomial Degree 3 Model: train_mae={Poly3_train_mae}, test_mae={Poly3_test_mae}\")\n",
    "print(Poly3_pipe.score(X_test, y_test))"
   ]
  },
  {
   "cell_type": "markdown",
   "metadata": {},
   "source": [
    "##### Polynomial Regression degree 4"
   ]
  },
  {
   "cell_type": "code",
   "execution_count": null,
   "metadata": {},
   "outputs": [],
   "source": [
    "#Building a pipeline for the linear regression\n",
    "\n",
    "Poly4_pipe =  Pipeline([('scaler', StandardScaler()),\n",
    "                     ('feature_transform', PolynomialFeatures(degree=4, include_bias=False)),\n",
    "                       ('linear', LinearRegression())])\n",
    "\n",
    "\n",
    "#Perform polynomial regression on the data\n",
    "\n",
    "Poly4_pipe.fit(X_train, y_train)\n",
    "train_predict=Poly4_pipe.predict(X_train)\n",
    "test_predict=Poly4_pipe.predict(X_test)\n",
    "\n",
    "\n",
    "#Regression Error\n",
    "Poly4_train_mse = mean_squared_error(train_predict, y_train)\n",
    "Poly4_test_mse = mean_squared_error(test_predict, y_test)\n",
    "Poly4_train_mae = mean_absolute_error(train_predict, y_train)\n",
    "Poly4_test_mae = mean_absolute_error(test_predict, y_test)\n",
    "\n",
    "\n",
    "\n",
    "#Check\n",
    "Poly4_coefs = Poly4_pipe.named_steps['linear'].coef_\n",
    "print(Poly4_pipe)\n",
    "print(Poly4_coefs)  \n",
    "\n",
    "print(f\"Polynomial Degree 4 Model: train_mse={Poly4_train_mse}, test_mse={Poly4_test_mse}\")\n",
    "print(f\"Polynomial Degree 4 Model: train_mae={Poly4_train_mae}, test_mae={Poly4_test_mae}\")\n",
    "print(Poly4_pipe.score(X_test, y_test))"
   ]
  },
  {
   "cell_type": "markdown",
   "metadata": {},
   "source": [
    "###### Polynomial Regression degree 2 - LASSO"
   ]
  },
  {
   "cell_type": "code",
   "execution_count": null,
   "metadata": {},
   "outputs": [],
   "source": [
    "#We now try using lasso to offer a penalized regression method\n",
    "\n",
    "Lasso2_pipe =  Pipeline([('scaler', StandardScaler()),\n",
    "                     ('feature_transform', PolynomialFeatures(degree=2, include_bias=False)),\n",
    "                       ('lasso', Lasso(random_state=42))])\n",
    "\n",
    "#Perform polynomial regression on the data\n",
    "\n",
    "Lasso2_pipe.fit(X_train, y_train)\n",
    "train_predict=Lasso2_pipe.predict(X_train)\n",
    "test_predict=Lasso2_pipe.predict(X_test)\n",
    "\n",
    "\n",
    "#Regression Error\n",
    "Lasso2_train_mse = mean_squared_error(train_predict, y_train)\n",
    "Lasso2_test_mse = mean_squared_error(test_predict, y_test)\n",
    "Lasso2_train_mae = mean_absolute_error(train_predict, y_train)\n",
    "Lasso2_test_mae = mean_absolute_error(test_predict, y_test)\n",
    "\n",
    "\n",
    "\n",
    "#Check\n",
    "Lasso2_coefs = Lasso2_pipe.named_steps['lasso'].coef_\n",
    "print(Lasso2_pipe)\n",
    "print(Lasso2_coefs)  \n",
    "\n",
    "print(f\"Lasso Degree 2 Model: train_mse={Lasso2_train_mse}, test_mse={Lasso2_test_mse}\")\n",
    "print(f\"Lasso Degree 2 Model: train_mae={Lasso2_train_mae}, test_mae={Lasso2_test_mae}\")\n",
    "print(Lasso2_pipe.score(X_test, y_test))"
   ]
  },
  {
   "cell_type": "markdown",
   "metadata": {},
   "source": [
    "#### Polynomial Regression degree 3 - LASSO"
   ]
  },
  {
   "cell_type": "code",
   "execution_count": null,
   "metadata": {},
   "outputs": [],
   "source": [
    "#We now try using lasso to offer a penalized regression method\n",
    "\n",
    "Lasso3_pipe =  Pipeline([('scaler', StandardScaler()),\n",
    "                     ('feature_transform', PolynomialFeatures(degree=3, include_bias=False)),\n",
    "                       ('lasso', Lasso(random_state=42))])\n",
    "\n",
    "#Perform polynomial regression on the data\n",
    "\n",
    "Lasso3_pipe =Lasso3_pipe.fit(X_train, y_train)\n",
    "train_predict=Lasso3_pipe.predict(X_train)\n",
    "test_predict=Lasso3_pipe.predict(X_test)\n",
    "\n",
    "\n",
    "#Regression Error\n",
    "Lasso3_train_mse = mean_squared_error(train_predict, y_train)\n",
    "Lasso3_test_mse = mean_squared_error(test_predict, y_test)\n",
    "Lasso3_train_mae = mean_absolute_error(train_predict, y_train)\n",
    "Lasso3_test_mae = mean_absolute_error(test_predict, y_test)\n",
    "\n",
    "\n",
    "\n",
    "#Check\n",
    "Lasso3_coefs = Lasso3_pipe.named_steps['lasso'].coef_\n",
    "print(Lasso3_pipe)\n",
    "print(Lasso3_coefs)  \n",
    "\n",
    "print(f\"Lasso Degree 3 Model: train_mse={Lasso3_train_mse}, test_mse={Lasso3_test_mse}\")\n",
    "print(f\"Lasso Degree 3 Model: train_mae={Lasso3_train_mae}, test_mae={Lasso3_test_mae}\")\n",
    "print(Lasso3_pipe.score(X_test, y_test))"
   ]
  },
  {
   "cell_type": "markdown",
   "metadata": {},
   "source": [
    "##### Polynomial Regression degree 3 - Cross Validation"
   ]
  },
  {
   "cell_type": "code",
   "execution_count": null,
   "metadata": {},
   "outputs": [],
   "source": [
    "#Building a pipeline for the linear regression\n",
    "\n",
    "Poly3_pipe =  Pipeline([('scaler', StandardScaler()),\n",
    "                     ('feature_transform', PolynomialFeatures(degree=3, include_bias=False)),\n",
    "                       ('linear', LinearRegression())])\n",
    "\n",
    "\n",
    "#Perform polynomial regression on the data\n",
    "\n",
    "Poly3 =Poly3_pipe.fit(X_train, y_train)\n",
    "\n",
    "# Permutation importance\n",
    "feature_importance_poly3 = {}\n",
    "r = permutation_importance(Poly3, X_test, y_test , n_repeats=30,random_state=0)\n",
    "for i in r.importances_mean.argsort()[::-1]:\n",
    "    if r.importances_mean[i] - 2 * r.importances_std[i] > 0:\n",
    "        print(f\"{X_test.columns[i]:<8}\"\n",
    "        f\"  {r.importances_mean[i]:.3f}\"\n",
    "              f\" +/- {r.importances_std[i]:.3f}\")\n",
    "        feature_importance_poly3[X_dev.columns[i]]=r.importances_mean[i]"
   ]
  },
  {
   "cell_type": "code",
   "execution_count": null,
   "metadata": {},
   "outputs": [],
   "source": [
    "Poly3.score(X_test, y_test)"
   ]
  },
  {
   "cell_type": "code",
   "execution_count": null,
   "metadata": {},
   "outputs": [],
   "source": [
    "feature_importance_poly3 = pd.DataFrame(feature_importance_poly3,index=[0]).T\n",
    "feature_importance_poly3 = feature_importance_poly3.rename(columns={0: \"Feature Importance for Polynomial Degree 3\"})\n",
    "feature_importance_poly3"
   ]
  },
  {
   "cell_type": "code",
   "execution_count": null,
   "metadata": {},
   "outputs": [],
   "source": [
    "#Plot Feature importance\n",
    "feature_importance_poly3.plot.barh(figsize=(14, 11))\n",
    "plt.title(\"Polynomial Degree 3 model Feature Importance\")\n",
    "plt.axvline(x=0, color=\".5\")\n",
    "plt.xlabel(\"Feature Importance\")\n",
    "plt.subplots_adjust(left=0.3)"
   ]
  },
  {
   "cell_type": "code",
   "execution_count": null,
   "metadata": {},
   "outputs": [],
   "source": [
    "#Coefficient Importance\n",
    "\n",
    "feature_names = Poly3[:-1].get_feature_names_out()\n",
    "\n",
    "coefs_Poly3 = pd.DataFrame(\n",
    "    Poly3[-1].coef_,\n",
    "    columns=[\"Coefficients\"],\n",
    "    index=feature_names,\n",
    ")\n",
    "coefs_Poly3.sort_values(by=['Coefficients'], ascending=False)"
   ]
  },
  {
   "cell_type": "code",
   "execution_count": null,
   "metadata": {},
   "outputs": [],
   "source": [
    "#plot coefficient importance\n",
    "coefs_Poly3[abs(coefs_Poly3['Coefficients']) >500].plot.barh(figsize=(16, 11))\n",
    "plt.title(\"Polynomial Degree 3 Coefficient Importance\")\n",
    "plt.axvline(x=0, color=\".5\")\n",
    "plt.xlabel(\"Coefficient values\")\n",
    "plt.subplots_adjust(left=0.3)"
   ]
  },
  {
   "cell_type": "markdown",
   "metadata": {},
   "source": [
    "###### Ridge Regression"
   ]
  },
  {
   "cell_type": "code",
   "execution_count": null,
   "metadata": {},
   "outputs": [],
   "source": [
    "#Building a pipeline for the ridge regression\n",
    "Ridge_Poly3_pipe =  Pipeline([('scaler', StandardScaler()),\n",
    "                     ('feature_transform', PolynomialFeatures(degree=3, include_bias=False)),\n",
    "                       ('ridge', Ridge())])\n",
    "\n",
    "\n",
    "#Perform ridge regression on the data\n",
    "Ridge3 = Ridge_Poly3_pipe.fit(X_train, y_train)\n",
    "train_predict=Ridge3.predict(X_train)\n",
    "test_predict=Ridge3.predict(X_test)\n",
    "\n",
    "\n",
    "#Regression Error\n",
    "Ridge3_train_mse = mean_squared_error(train_predict, y_train)\n",
    "Ridge3_test_mse = mean_squared_error(test_predict, y_test)\n",
    "Ridge3_train_mae = mean_absolute_error(train_predict, y_train)\n",
    "Ridge3_test_mae = mean_absolute_error(test_predict, y_test)\n",
    "\n",
    "\n",
    "\n",
    "#Check\n",
    "print(Ridge3)\n",
    "\n",
    "\n",
    "print(f\"Ridge Degree 3 Model: train_mse={Ridge3_train_mse}, test_mse={Ridge3_test_mse}\")\n",
    "print(f\"Ridge Degree 3 Model: train_mae={Ridge3_train_mae}, test_mae={Ridge3_test_mae}\")\n",
    "print(Ridge3.score(X_test, y_test))"
   ]
  },
  {
   "cell_type": "markdown",
   "metadata": {},
   "source": [
    "##### GridSearch Ridge"
   ]
  },
  {
   "cell_type": "code",
   "execution_count": null,
   "metadata": {},
   "outputs": [],
   "source": [
    "#Create the alpha parameter dictionary\n",
    "param_dict = {'ridge__alpha':[1,10,100,1000]}\n",
    "\n",
    "#GridSearch\n",
    "Opt_Ridge3 = GridSearchCV(Ridge_Poly3_pipe, param_grid=param_dict)\n",
    "Opt_Ridge3.fit(X_train, y_train)"
   ]
  },
  {
   "cell_type": "code",
   "execution_count": null,
   "metadata": {},
   "outputs": [],
   "source": [
    "#Use the Ridge to predict\n",
    "train_predict=Opt_Ridge3.predict(X_train)\n",
    "test_predict=Opt_Ridge3.predict(X_test)\n",
    "\n",
    "\n",
    "#Regression Error\n",
    "Opt_Ridge3_train_mse = mean_squared_error(train_predict, y_train)\n",
    "Opt_Ridge3_test_mse = mean_squared_error(test_predict, y_test)\n",
    "Opt_Ridge3_train_mae = mean_absolute_error(train_predict, y_train)\n",
    "Opt_Ridge3_test_mae = mean_absolute_error(test_predict, y_test)\n",
    "\n",
    "\n",
    "\n",
    "#Check\n",
    "print(f\"Opt_Ridge Degree 3 Model: train_mse={Opt_Ridge3_train_mse}, test_mse={Opt_Ridge3_test_mse}\")\n",
    "print(f\"Opt_Ridge Degree 3 Model: train_mae={Opt_Ridge3_train_mae}, test_mae={Opt_Ridge3_test_mae}\")\n",
    "print(Opt_Ridge3.score(X_test, y_test))\n",
    "\n",
    "best_alpha = Opt_Ridge3.best_params_\n",
    "best_alpha\n",
    "\n"
   ]
  },
  {
   "cell_type": "markdown",
   "metadata": {},
   "source": [
    "### Evaluation\n",
    "\n",
    "With some modeling accomplished, we aim to reflect on what we identify as a high-quality model and what we are able to learn from this.  We should review our business objective and explore how well we can provide meaningful insight into drivers of used car prices.  Your goal now is to distill your findings and determine whether the earlier phases need revisitation and adjustment or if you have information of value to bring back to your client."
   ]
  },
  {
   "cell_type": "code",
   "execution_count": null,
   "metadata": {},
   "outputs": [],
   "source": [
    "coefs_Poly3.sort_values(by='Coefficients', ascending = False).head(10)"
   ]
  },
  {
   "cell_type": "code",
   "execution_count": null,
   "metadata": {},
   "outputs": [],
   "source": []
  },
  {
   "cell_type": "code",
   "execution_count": null,
   "metadata": {},
   "outputs": [],
   "source": []
  },
  {
   "cell_type": "code",
   "execution_count": null,
   "metadata": {},
   "outputs": [],
   "source": []
  },
  {
   "cell_type": "code",
   "execution_count": null,
   "metadata": {},
   "outputs": [],
   "source": []
  },
  {
   "cell_type": "code",
   "execution_count": null,
   "metadata": {},
   "outputs": [],
   "source": []
  },
  {
   "cell_type": "markdown",
   "metadata": {},
   "source": [
    "### Deployment\n",
    "\n",
    "Now that we've settled on our models and findings, it is time to deliver the information to the client.  You should organize your work as a basic report that details your primary findings.  Keep in mind that your audience is a group of used car dealers interested in fine-tuning their inventory."
   ]
  },
  {
   "cell_type": "code",
   "execution_count": 1,
   "metadata": {},
   "outputs": [
    {
     "ename": "NameError",
     "evalue": "name 'feature_importance_poly3' is not defined",
     "output_type": "error",
     "traceback": [
      "\u001b[0;31m---------------------------------------------------------------------------\u001b[0m",
      "\u001b[0;31mNameError\u001b[0m                                 Traceback (most recent call last)",
      "Cell \u001b[0;32mIn[1], line 1\u001b[0m\n\u001b[0;32m----> 1\u001b[0m \u001b[43mfeature_importance_poly3\u001b[49m\u001b[38;5;241m.\u001b[39mplot\u001b[38;5;241m.\u001b[39mbarh(figsize\u001b[38;5;241m=\u001b[39m(\u001b[38;5;241m14\u001b[39m, \u001b[38;5;241m11\u001b[39m))\n\u001b[1;32m      2\u001b[0m plt\u001b[38;5;241m.\u001b[39mtitle(\u001b[38;5;124m\"\u001b[39m\u001b[38;5;124mPolynomial Degree 3 model Feature Importance\u001b[39m\u001b[38;5;124m\"\u001b[39m)\n\u001b[1;32m      3\u001b[0m plt\u001b[38;5;241m.\u001b[39maxvline(x\u001b[38;5;241m=\u001b[39m\u001b[38;5;241m0\u001b[39m, color\u001b[38;5;241m=\u001b[39m\u001b[38;5;124m\"\u001b[39m\u001b[38;5;124m.5\u001b[39m\u001b[38;5;124m\"\u001b[39m)\n",
      "\u001b[0;31mNameError\u001b[0m: name 'feature_importance_poly3' is not defined"
     ]
    }
   ],
   "source": [
    "feature_importance_poly3.plot.barh(figsize=(14, 11))\n",
    "plt.title(\"Polynomial Degree 3 model Feature Importance\")\n",
    "plt.axvline(x=0, color=\".5\")\n",
    "plt.xlabel(\"Feature Importance\")\n",
    "plt.subplots_adjust(left=0.3)"
   ]
  },
  {
   "cell_type": "code",
   "execution_count": null,
   "metadata": {},
   "outputs": [],
   "source": []
  },
  {
   "cell_type": "code",
   "execution_count": null,
   "metadata": {},
   "outputs": [],
   "source": []
  },
  {
   "cell_type": "code",
   "execution_count": null,
   "metadata": {},
   "outputs": [],
   "source": []
  },
  {
   "cell_type": "code",
   "execution_count": null,
   "metadata": {},
   "outputs": [],
   "source": []
  },
  {
   "cell_type": "code",
   "execution_count": null,
   "metadata": {},
   "outputs": [],
   "source": []
  },
  {
   "cell_type": "code",
   "execution_count": null,
   "metadata": {},
   "outputs": [],
   "source": []
  }
 ],
 "metadata": {
  "kernelspec": {
   "display_name": "Python 3",
   "language": "python",
   "name": "python3"
  },
  "language_info": {
   "codemirror_mode": {
    "name": "ipython",
    "version": 3
   },
   "file_extension": ".py",
   "mimetype": "text/x-python",
   "name": "python",
   "nbconvert_exporter": "python",
   "pygments_lexer": "ipython3",
   "version": "3.9.6"
  },
  "widgets": {
   "application/vnd.jupyter.widget-state+json": {
    "state": {},
    "version_major": 2,
    "version_minor": 0
   }
  }
 },
 "nbformat": 4,
 "nbformat_minor": 4
}
